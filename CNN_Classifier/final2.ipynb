{
 "cells": [
  {
   "cell_type": "code",
   "execution_count": 958,
   "metadata": {},
   "outputs": [],
   "source": [
    "import torch\n",
    "import glob\n",
    "from PIL import Image\n",
    "import torchvision.transforms.functional as TF\n",
    "import torchvision\n",
    "import torchvision.transforms as transforms\n",
    "import numpy as np\n",
    "import matplotlib.pyplot as plt\n",
    "\n",
    "from torch.utils.data import Dataset, DataLoader\n",
    "import torch.nn as nn"
   ]
  },
  {
   "cell_type": "code",
   "execution_count": 959,
   "metadata": {},
   "outputs": [],
   "source": [
    "from sklearn.neighbors import KNeighborsClassifier"
   ]
  },
  {
   "cell_type": "code",
   "execution_count": 965,
   "metadata": {},
   "outputs": [],
   "source": [
    "num_epochs = 2\n",
    "num_classes = 10\n",
    "batch_size = 25\n",
    "learning_rate = 0.001\n",
    "print_times_for_every_epoch = 100\n",
    "MODEL_STORE_PATH = './Model'"
   ]
  },
  {
   "cell_type": "code",
   "execution_count": 961,
   "metadata": {},
   "outputs": [],
   "source": [
    "def showImage(image):\n",
    "    plt.figure()\n",
    "    image = image.numpy()\n",
    "    image = image.transpose(1, 2, 0)\n",
    "    image = np.squeeze(image, axis=2)\n",
    "    plt.imshow(image)\n",
    "    plt.show()"
   ]
  },
  {
   "cell_type": "code",
   "execution_count": 984,
   "metadata": {},
   "outputs": [],
   "source": [
    "def cleanData(image, labelclss):\n",
    "    \n",
    "    diffs = torch.zeros(0, 1, 28, 28)\n",
    "    for i in range(image.shape[0]):\n",
    "        im = image[i]\n",
    "        diff = im - image\n",
    "        diff = torch.abs(diff)\n",
    "        diff = diff.mean(0)\n",
    "        diff = diff.unsqueeze(0)\n",
    "        #print(diff.shape)\n",
    "        diffs = torch.cat((diffs, diff), 0)\n",
    "        print(f'Image No. Difference {i} is processed')\n",
    "        \n",
    "    stnDev = diffs.std(0)\n",
    "    newDataSet = torch.zeros(0, 1, 28, 28)\n",
    "\n",
    "    ##print(stnDev.shape)\n",
    "    #print(Xtr[0].shape)\n",
    "\n",
    "    stnDev = stnDev.mean(0).mean(0).mean(0)\n",
    "\n",
    "    for i in range(image.shape[0]):\n",
    "        if ((image[i].mean(0).mean(0).mean(0)<stnDev.mean(0).mean(0).mean(0)*(1.5)) \n",
    "            and (image[i].mean(0).mean(0).mean(0)>stnDev.mean(0).mean(0).mean(0)*(-1.5))):\n",
    "            newDataSet = torch.cat((newDataSet, image[i].unsqueeze(0)), 0)\n",
    "            print(f'Image No. {i} is processed')\n",
    "    \n",
    "    newlabels = []\n",
    "    for i in range(newDataSet.shape[0]):\n",
    "        newlabels.append(labelclss[i])\n",
    "    \n",
    "    return newDataSet, newlabels\n",
    "    "
   ]
  },
  {
   "cell_type": "code",
   "execution_count": 962,
   "metadata": {},
   "outputs": [],
   "source": [
    "def reClassify(imag, lblclss):\n",
    "    knn = KNeighborsClassifier(n_neighbors=10, metric='euclidean')\n",
    "    #for i in range(imag.shape[0]):\n",
    "    nsamples, nchannels, nx, ny = imag.numpy().shape\n",
    "    d2_imag = imag.numpy().reshape((nsamples*nchannels,nx*ny))\n",
    "    \n",
    "    knn.fit(d2_imag, lblclss)\n",
    "    \n",
    "    #y_pred = []\n",
    "    #for i in range(imag.shape[0]):\n",
    "        #y_pred.append = knn.predict(imag[i].numpy())\n",
    "    \n",
    "    \n",
    "    y_pred = knn.predict(d2_imag)\n",
    "    y_pred.tolist()\n",
    "    l2 = [int(v) for v in y_pred]\n",
    "    \n",
    "    return imag, l2"
   ]
  },
  {
   "cell_type": "code",
   "execution_count": 963,
   "metadata": {},
   "outputs": [],
   "source": [
    "def readData(train=True, mix=False, cData=False):\n",
    "    \n",
    "    if (train):\n",
    "        typ=\"training\"\n",
    "    else:\n",
    "        typ=\"testing\"\n",
    "        \n",
    "    if (mix):\n",
    "        fold=\"mnist_png_mixtrain50\"\n",
    "    else:\n",
    "        fold=\"mnist_png\"\n",
    "        \n",
    "    \n",
    "    images = torch.zeros(0, 1, 28, 28)\n",
    "    label = []\n",
    "    \n",
    "    \n",
    "    for i in range(10):\n",
    "        count = 0\n",
    "        #image and labelclss hold images and labels of one class\n",
    "        image = torch.zeros(0, 1, 28, 28)\n",
    "        labelclss = []\n",
    "        for file in glob.glob(f'./{fold}/{typ}/{i}/*'):\n",
    "            img = Image.open(file)\n",
    "            img = TF.to_tensor(img)  \n",
    "            img.unsqueeze_(0)\n",
    "            \n",
    "            image = torch.cat((image, img), 0)\n",
    "            labelclss.append(i)\n",
    "            count = count + 1\n",
    "                \n",
    "            if (count>500):\n",
    "                break\n",
    "                \n",
    "        if (cData and train):\n",
    "            imag, lblclss = cleanData(image, labelclss)\n",
    "            \n",
    "            #imag, lblclss = reClassify(image, labelclss)\n",
    "            #imag, lblclss = cleanData(imag, lblclss)            \n",
    "            \n",
    "            #images holds the whole dataset\n",
    "            images = torch.cat((images, imag), 0) \n",
    "            label.extend(lblclss)\n",
    "                \n",
    "        if (not cData) or (not train):\n",
    "            #images holds the whole dataset\n",
    "            images = torch.cat((images, image), 0)\n",
    "            label.extend(labelclss)\n",
    "        #print(images.shape)\n",
    "        #print(len(label))\n",
    "    images, label = reClassify(images, label)\n",
    "    \n",
    "\n",
    "    ##print(label[5])\n",
    "    #showImage(images[5])\n",
    "\n",
    "        \n",
    "    return images, label"
   ]
  },
  {
   "cell_type": "code",
   "execution_count": 964,
   "metadata": {},
   "outputs": [],
   "source": [
    "Xtr, Ytr = readData()\n",
    "Xts, Yts = readData(train=False)"
   ]
  },
  {
   "cell_type": "code",
   "execution_count": 966,
   "metadata": {},
   "outputs": [
    {
     "data": {
      "text/plain": [
       "60000"
      ]
     },
     "execution_count": 966,
     "metadata": {},
     "output_type": "execute_result"
    }
   ],
   "source": [
    "Yts[23]\n",
    "len(Ytr)"
   ]
  },
  {
   "cell_type": "code",
   "execution_count": 967,
   "metadata": {},
   "outputs": [
    {
     "data": {
      "text/plain": [
       "torch.Size([60000, 1, 28, 28])"
      ]
     },
     "execution_count": 967,
     "metadata": {},
     "output_type": "execute_result"
    }
   ],
   "source": [
    "Xtr.shape"
   ]
  },
  {
   "cell_type": "code",
   "execution_count": 969,
   "metadata": {},
   "outputs": [],
   "source": [
    "train_dataset = []\n",
    "test_dataset = []\n",
    "for i in range(Xtr.shape[0]):\n",
    "   train_dataset.append([Xtr[i], Ytr[i]])\n",
    "for i in range(Xts.shape[0]):\n",
    "   test_dataset.append([Xts[i], Yts[i]])"
   ]
  },
  {
   "cell_type": "code",
   "execution_count": 970,
   "metadata": {},
   "outputs": [],
   "source": [
    "train_loader = DataLoader(dataset=train_dataset, batch_size=batch_size, shuffle=True)\n",
    "test_loader = DataLoader(dataset=test_dataset, batch_size=batch_size, shuffle=True)"
   ]
  },
  {
   "cell_type": "code",
   "execution_count": 971,
   "metadata": {},
   "outputs": [
    {
     "name": "stdout",
     "output_type": "stream",
     "text": [
      "2400\n"
     ]
    }
   ],
   "source": [
    "NumberOfBatches = len(train_loader)\n",
    "print (NumberOfBatches)"
   ]
  },
  {
   "cell_type": "code",
   "execution_count": 972,
   "metadata": {},
   "outputs": [
    {
     "name": "stdout",
     "output_type": "stream",
     "text": [
      "24.0\n"
     ]
    }
   ],
   "source": [
    "printNow = NumberOfBatches/print_times_for_every_epoch\n",
    "print(printNow)"
   ]
  },
  {
   "cell_type": "code",
   "execution_count": 973,
   "metadata": {},
   "outputs": [],
   "source": [
    "img, lbl = next(iter(train_loader))"
   ]
  },
  {
   "cell_type": "code",
   "execution_count": 974,
   "metadata": {},
   "outputs": [
    {
     "data": {
      "text/plain": [
       "torch.Size([25, 1, 28, 28])"
      ]
     },
     "execution_count": 974,
     "metadata": {},
     "output_type": "execute_result"
    }
   ],
   "source": [
    "img.shape"
   ]
  },
  {
   "cell_type": "code",
   "execution_count": 975,
   "metadata": {},
   "outputs": [],
   "source": [
    "class ConvNet(nn.Module):\n",
    "    def __init__(self):\n",
    "        super(ConvNet, self).__init__()\n",
    "        self.layer1 = nn.Sequential(\n",
    "            nn.Conv2d(1, 32, kernel_size=5, stride=1, padding=2),\n",
    "            nn.ReLU(),\n",
    "            nn.MaxPool2d(kernel_size=2, stride=2))\n",
    "        self.layer2 = nn.Sequential(\n",
    "            nn.Conv2d(32, 64, kernel_size=5, stride=1, padding=2),\n",
    "            nn.ReLU(),\n",
    "            nn.MaxPool2d(kernel_size=2, stride=2))\n",
    "        self.drop_out = nn.Dropout()\n",
    "        self.fc1 = nn.Linear(7 * 7 * 64, 1000)\n",
    "        self.fc2 = nn.Linear(1000, 10)\n",
    "    def forward(self, x):\n",
    "        out = self.layer1(x)\n",
    "        out = self.layer2(out)\n",
    "        out = out.reshape(out.size(0), -1)\n",
    "        out = self.drop_out(out)\n",
    "        out = self.fc1(out)\n",
    "        out = self.fc2(out)\n",
    "        return out"
   ]
  },
  {
   "cell_type": "code",
   "execution_count": 976,
   "metadata": {},
   "outputs": [],
   "source": [
    "model = ConvNet()\n",
    "\n",
    "# Loss and optimizer\n",
    "criterion = nn.CrossEntropyLoss()\n",
    "optimizer = torch.optim.Adam(model.parameters(), lr=learning_rate)"
   ]
  },
  {
   "cell_type": "code",
   "execution_count": 977,
   "metadata": {},
   "outputs": [],
   "source": [
    "imgs, lbls = next(iter(train_loader))"
   ]
  },
  {
   "cell_type": "code",
   "execution_count": 978,
   "metadata": {},
   "outputs": [
    {
     "data": {
      "text/plain": [
       "tensor(3)"
      ]
     },
     "execution_count": 978,
     "metadata": {},
     "output_type": "execute_result"
    }
   ],
   "source": [
    "lbls.shape\n",
    "lbls[1]"
   ]
  },
  {
   "cell_type": "code",
   "execution_count": 979,
   "metadata": {},
   "outputs": [
    {
     "name": "stdout",
     "output_type": "stream",
     "text": [
      "Epoch [1/2], Step [24/2400], Loss: 0.7815, Accuracy: 68.00%\n",
      "Epoch [1/2], Step [48/2400], Loss: 0.4348, Accuracy: 92.00%\n",
      "Epoch [1/2], Step [72/2400], Loss: 0.1790, Accuracy: 92.00%\n",
      "Epoch [1/2], Step [96/2400], Loss: 0.1680, Accuracy: 92.00%\n",
      "Epoch [1/2], Step [120/2400], Loss: 0.3722, Accuracy: 88.00%\n",
      "Epoch [1/2], Step [144/2400], Loss: 0.3063, Accuracy: 92.00%\n",
      "Epoch [1/2], Step [168/2400], Loss: 0.2170, Accuracy: 92.00%\n",
      "Epoch [1/2], Step [192/2400], Loss: 0.3444, Accuracy: 84.00%\n",
      "Epoch [1/2], Step [216/2400], Loss: 0.0433, Accuracy: 100.00%\n",
      "Epoch [1/2], Step [240/2400], Loss: 0.0274, Accuracy: 100.00%\n",
      "Epoch [1/2], Step [264/2400], Loss: 0.0721, Accuracy: 100.00%\n",
      "Epoch [1/2], Step [288/2400], Loss: 0.1087, Accuracy: 92.00%\n",
      "Epoch [1/2], Step [312/2400], Loss: 0.1051, Accuracy: 96.00%\n",
      "Epoch [1/2], Step [336/2400], Loss: 0.0572, Accuracy: 100.00%\n",
      "Epoch [1/2], Step [360/2400], Loss: 0.4082, Accuracy: 88.00%\n",
      "Epoch [1/2], Step [384/2400], Loss: 0.0491, Accuracy: 100.00%\n",
      "Epoch [1/2], Step [408/2400], Loss: 0.1378, Accuracy: 100.00%\n",
      "Epoch [1/2], Step [432/2400], Loss: 0.0737, Accuracy: 96.00%\n",
      "Epoch [1/2], Step [456/2400], Loss: 0.0739, Accuracy: 96.00%\n",
      "Epoch [1/2], Step [480/2400], Loss: 0.1777, Accuracy: 96.00%\n",
      "Epoch [1/2], Step [504/2400], Loss: 0.0177, Accuracy: 100.00%\n",
      "Epoch [1/2], Step [528/2400], Loss: 0.2794, Accuracy: 88.00%\n",
      "Epoch [1/2], Step [552/2400], Loss: 0.0598, Accuracy: 96.00%\n",
      "Epoch [1/2], Step [576/2400], Loss: 0.5454, Accuracy: 92.00%\n",
      "Epoch [1/2], Step [600/2400], Loss: 0.0815, Accuracy: 96.00%\n",
      "Epoch [1/2], Step [624/2400], Loss: 0.4518, Accuracy: 88.00%\n",
      "Epoch [1/2], Step [648/2400], Loss: 0.0893, Accuracy: 96.00%\n",
      "Epoch [1/2], Step [672/2400], Loss: 0.0502, Accuracy: 100.00%\n",
      "Epoch [1/2], Step [696/2400], Loss: 0.0240, Accuracy: 100.00%\n",
      "Epoch [1/2], Step [720/2400], Loss: 0.0631, Accuracy: 96.00%\n",
      "Epoch [1/2], Step [744/2400], Loss: 0.2988, Accuracy: 96.00%\n",
      "Epoch [1/2], Step [768/2400], Loss: 0.1134, Accuracy: 92.00%\n",
      "Epoch [1/2], Step [792/2400], Loss: 0.0664, Accuracy: 96.00%\n",
      "Epoch [1/2], Step [816/2400], Loss: 0.0862, Accuracy: 96.00%\n",
      "Epoch [1/2], Step [840/2400], Loss: 0.2344, Accuracy: 96.00%\n",
      "Epoch [1/2], Step [864/2400], Loss: 0.1429, Accuracy: 92.00%\n",
      "Epoch [1/2], Step [888/2400], Loss: 0.0823, Accuracy: 96.00%\n",
      "Epoch [1/2], Step [912/2400], Loss: 0.0806, Accuracy: 96.00%\n",
      "Epoch [1/2], Step [936/2400], Loss: 0.0532, Accuracy: 100.00%\n",
      "Epoch [1/2], Step [960/2400], Loss: 0.0110, Accuracy: 100.00%\n",
      "Epoch [1/2], Step [984/2400], Loss: 0.0631, Accuracy: 100.00%\n",
      "Epoch [1/2], Step [1008/2400], Loss: 0.3565, Accuracy: 92.00%\n",
      "Epoch [1/2], Step [1032/2400], Loss: 0.0298, Accuracy: 100.00%\n",
      "Epoch [1/2], Step [1056/2400], Loss: 0.0581, Accuracy: 96.00%\n",
      "Epoch [1/2], Step [1080/2400], Loss: 0.0239, Accuracy: 100.00%\n",
      "Epoch [1/2], Step [1104/2400], Loss: 0.1240, Accuracy: 92.00%\n",
      "Epoch [1/2], Step [1128/2400], Loss: 0.0238, Accuracy: 100.00%\n",
      "Epoch [1/2], Step [1152/2400], Loss: 0.0376, Accuracy: 100.00%\n",
      "Epoch [1/2], Step [1176/2400], Loss: 0.0050, Accuracy: 100.00%\n",
      "Epoch [1/2], Step [1200/2400], Loss: 0.0072, Accuracy: 100.00%\n",
      "Epoch [1/2], Step [1224/2400], Loss: 0.0564, Accuracy: 100.00%\n",
      "Epoch [1/2], Step [1248/2400], Loss: 0.0329, Accuracy: 100.00%\n",
      "Epoch [1/2], Step [1272/2400], Loss: 0.0536, Accuracy: 96.00%\n",
      "Epoch [1/2], Step [1296/2400], Loss: 0.1396, Accuracy: 96.00%\n",
      "Epoch [1/2], Step [1320/2400], Loss: 0.0273, Accuracy: 100.00%\n",
      "Epoch [1/2], Step [1344/2400], Loss: 0.2575, Accuracy: 96.00%\n",
      "Epoch [1/2], Step [1368/2400], Loss: 0.1299, Accuracy: 96.00%\n",
      "Epoch [1/2], Step [1392/2400], Loss: 0.0161, Accuracy: 100.00%\n",
      "Epoch [1/2], Step [1416/2400], Loss: 0.0113, Accuracy: 100.00%\n",
      "Epoch [1/2], Step [1440/2400], Loss: 0.0409, Accuracy: 100.00%\n",
      "Epoch [1/2], Step [1464/2400], Loss: 0.0705, Accuracy: 96.00%\n",
      "Epoch [1/2], Step [1488/2400], Loss: 0.0569, Accuracy: 96.00%\n",
      "Epoch [1/2], Step [1512/2400], Loss: 0.1207, Accuracy: 92.00%\n",
      "Epoch [1/2], Step [1536/2400], Loss: 0.1330, Accuracy: 92.00%\n",
      "Epoch [1/2], Step [1560/2400], Loss: 0.0765, Accuracy: 96.00%\n",
      "Epoch [1/2], Step [1584/2400], Loss: 0.0877, Accuracy: 96.00%\n",
      "Epoch [1/2], Step [1608/2400], Loss: 0.0133, Accuracy: 100.00%\n",
      "Epoch [1/2], Step [1632/2400], Loss: 0.0459, Accuracy: 100.00%\n",
      "Epoch [1/2], Step [1656/2400], Loss: 0.0138, Accuracy: 100.00%\n",
      "Epoch [1/2], Step [1680/2400], Loss: 0.1393, Accuracy: 96.00%\n",
      "Epoch [1/2], Step [1704/2400], Loss: 0.0529, Accuracy: 96.00%\n",
      "Epoch [1/2], Step [1728/2400], Loss: 0.0149, Accuracy: 100.00%\n",
      "Epoch [1/2], Step [1752/2400], Loss: 0.0222, Accuracy: 100.00%\n",
      "Epoch [1/2], Step [1776/2400], Loss: 0.9331, Accuracy: 88.00%\n",
      "Epoch [1/2], Step [1800/2400], Loss: 0.0999, Accuracy: 96.00%\n",
      "Epoch [1/2], Step [1824/2400], Loss: 0.0855, Accuracy: 92.00%\n",
      "Epoch [1/2], Step [1848/2400], Loss: 0.0021, Accuracy: 100.00%\n",
      "Epoch [1/2], Step [1872/2400], Loss: 0.0262, Accuracy: 100.00%\n",
      "Epoch [1/2], Step [1896/2400], Loss: 0.1786, Accuracy: 92.00%\n",
      "Epoch [1/2], Step [1920/2400], Loss: 0.0437, Accuracy: 100.00%\n",
      "Epoch [1/2], Step [1944/2400], Loss: 0.1895, Accuracy: 96.00%\n",
      "Epoch [1/2], Step [1968/2400], Loss: 0.0138, Accuracy: 100.00%\n",
      "Epoch [1/2], Step [1992/2400], Loss: 0.1885, Accuracy: 92.00%\n",
      "Epoch [1/2], Step [2016/2400], Loss: 0.1499, Accuracy: 96.00%\n",
      "Epoch [1/2], Step [2040/2400], Loss: 0.0302, Accuracy: 100.00%\n",
      "Epoch [1/2], Step [2064/2400], Loss: 0.0132, Accuracy: 100.00%\n",
      "Epoch [1/2], Step [2088/2400], Loss: 0.1535, Accuracy: 92.00%\n",
      "Epoch [1/2], Step [2112/2400], Loss: 0.1245, Accuracy: 96.00%\n",
      "Epoch [1/2], Step [2136/2400], Loss: 0.5089, Accuracy: 92.00%\n",
      "Epoch [1/2], Step [2160/2400], Loss: 0.0141, Accuracy: 100.00%\n",
      "Epoch [1/2], Step [2184/2400], Loss: 0.0428, Accuracy: 100.00%\n",
      "Epoch [1/2], Step [2208/2400], Loss: 0.3089, Accuracy: 96.00%\n",
      "Epoch [1/2], Step [2232/2400], Loss: 0.0132, Accuracy: 100.00%\n",
      "Epoch [1/2], Step [2256/2400], Loss: 0.0674, Accuracy: 96.00%\n",
      "Epoch [1/2], Step [2280/2400], Loss: 0.0087, Accuracy: 100.00%\n",
      "Epoch [1/2], Step [2304/2400], Loss: 0.0274, Accuracy: 100.00%\n",
      "Epoch [1/2], Step [2328/2400], Loss: 0.0648, Accuracy: 96.00%\n",
      "Epoch [1/2], Step [2352/2400], Loss: 0.0111, Accuracy: 100.00%\n",
      "Epoch [1/2], Step [2376/2400], Loss: 0.1402, Accuracy: 96.00%\n",
      "Epoch [1/2], Step [2400/2400], Loss: 0.1221, Accuracy: 92.00%\n",
      "Epoch [2/2], Step [24/2400], Loss: 0.0062, Accuracy: 100.00%\n",
      "Epoch [2/2], Step [48/2400], Loss: 0.0137, Accuracy: 100.00%\n",
      "Epoch [2/2], Step [72/2400], Loss: 0.0228, Accuracy: 100.00%\n",
      "Epoch [2/2], Step [96/2400], Loss: 0.0722, Accuracy: 96.00%\n",
      "Epoch [2/2], Step [120/2400], Loss: 0.0847, Accuracy: 96.00%\n",
      "Epoch [2/2], Step [144/2400], Loss: 0.0490, Accuracy: 96.00%\n",
      "Epoch [2/2], Step [168/2400], Loss: 0.0226, Accuracy: 100.00%\n",
      "Epoch [2/2], Step [192/2400], Loss: 0.1628, Accuracy: 96.00%\n",
      "Epoch [2/2], Step [216/2400], Loss: 0.0242, Accuracy: 100.00%\n",
      "Epoch [2/2], Step [240/2400], Loss: 0.0116, Accuracy: 100.00%\n",
      "Epoch [2/2], Step [264/2400], Loss: 0.0889, Accuracy: 96.00%\n",
      "Epoch [2/2], Step [288/2400], Loss: 0.0087, Accuracy: 100.00%\n",
      "Epoch [2/2], Step [312/2400], Loss: 0.0203, Accuracy: 100.00%\n",
      "Epoch [2/2], Step [336/2400], Loss: 0.1880, Accuracy: 88.00%\n",
      "Epoch [2/2], Step [360/2400], Loss: 0.0095, Accuracy: 100.00%\n",
      "Epoch [2/2], Step [384/2400], Loss: 0.0057, Accuracy: 100.00%\n",
      "Epoch [2/2], Step [408/2400], Loss: 0.1682, Accuracy: 92.00%\n",
      "Epoch [2/2], Step [432/2400], Loss: 0.2377, Accuracy: 96.00%\n",
      "Epoch [2/2], Step [456/2400], Loss: 0.1359, Accuracy: 96.00%\n",
      "Epoch [2/2], Step [480/2400], Loss: 0.0728, Accuracy: 96.00%\n",
      "Epoch [2/2], Step [504/2400], Loss: 0.0066, Accuracy: 100.00%\n",
      "Epoch [2/2], Step [528/2400], Loss: 0.0028, Accuracy: 100.00%\n",
      "Epoch [2/2], Step [552/2400], Loss: 0.0008, Accuracy: 100.00%\n",
      "Epoch [2/2], Step [576/2400], Loss: 0.0006, Accuracy: 100.00%\n",
      "Epoch [2/2], Step [600/2400], Loss: 0.0508, Accuracy: 100.00%\n",
      "Epoch [2/2], Step [624/2400], Loss: 0.1703, Accuracy: 96.00%\n",
      "Epoch [2/2], Step [648/2400], Loss: 0.0791, Accuracy: 96.00%\n",
      "Epoch [2/2], Step [672/2400], Loss: 0.0018, Accuracy: 100.00%\n",
      "Epoch [2/2], Step [696/2400], Loss: 0.0330, Accuracy: 100.00%\n",
      "Epoch [2/2], Step [720/2400], Loss: 0.1404, Accuracy: 96.00%\n",
      "Epoch [2/2], Step [744/2400], Loss: 0.0018, Accuracy: 100.00%\n",
      "Epoch [2/2], Step [768/2400], Loss: 0.0066, Accuracy: 100.00%\n",
      "Epoch [2/2], Step [792/2400], Loss: 0.0590, Accuracy: 96.00%\n",
      "Epoch [2/2], Step [816/2400], Loss: 0.0447, Accuracy: 96.00%\n",
      "Epoch [2/2], Step [840/2400], Loss: 0.0346, Accuracy: 96.00%\n",
      "Epoch [2/2], Step [864/2400], Loss: 0.2681, Accuracy: 96.00%\n",
      "Epoch [2/2], Step [888/2400], Loss: 0.1556, Accuracy: 96.00%\n",
      "Epoch [2/2], Step [912/2400], Loss: 0.0718, Accuracy: 96.00%\n",
      "Epoch [2/2], Step [936/2400], Loss: 0.2017, Accuracy: 92.00%\n",
      "Epoch [2/2], Step [960/2400], Loss: 0.0123, Accuracy: 100.00%\n",
      "Epoch [2/2], Step [984/2400], Loss: 0.0532, Accuracy: 96.00%\n",
      "Epoch [2/2], Step [1008/2400], Loss: 0.1924, Accuracy: 96.00%\n",
      "Epoch [2/2], Step [1032/2400], Loss: 0.1005, Accuracy: 96.00%\n",
      "Epoch [2/2], Step [1056/2400], Loss: 0.0057, Accuracy: 100.00%\n",
      "Epoch [2/2], Step [1080/2400], Loss: 0.0466, Accuracy: 96.00%\n",
      "Epoch [2/2], Step [1104/2400], Loss: 0.0026, Accuracy: 100.00%\n",
      "Epoch [2/2], Step [1128/2400], Loss: 0.0160, Accuracy: 100.00%\n",
      "Epoch [2/2], Step [1152/2400], Loss: 0.0982, Accuracy: 96.00%\n",
      "Epoch [2/2], Step [1176/2400], Loss: 0.0530, Accuracy: 100.00%\n",
      "Epoch [2/2], Step [1200/2400], Loss: 0.2265, Accuracy: 92.00%\n",
      "Epoch [2/2], Step [1224/2400], Loss: 0.0091, Accuracy: 100.00%\n",
      "Epoch [2/2], Step [1248/2400], Loss: 0.0760, Accuracy: 96.00%\n",
      "Epoch [2/2], Step [1272/2400], Loss: 0.0594, Accuracy: 96.00%\n",
      "Epoch [2/2], Step [1296/2400], Loss: 0.2985, Accuracy: 92.00%\n",
      "Epoch [2/2], Step [1320/2400], Loss: 0.0046, Accuracy: 100.00%\n",
      "Epoch [2/2], Step [1344/2400], Loss: 0.2687, Accuracy: 96.00%\n",
      "Epoch [2/2], Step [1368/2400], Loss: 0.1282, Accuracy: 96.00%\n",
      "Epoch [2/2], Step [1392/2400], Loss: 0.0289, Accuracy: 100.00%\n",
      "Epoch [2/2], Step [1416/2400], Loss: 0.0732, Accuracy: 96.00%\n",
      "Epoch [2/2], Step [1440/2400], Loss: 0.0138, Accuracy: 100.00%\n",
      "Epoch [2/2], Step [1464/2400], Loss: 0.0086, Accuracy: 100.00%\n",
      "Epoch [2/2], Step [1488/2400], Loss: 0.0143, Accuracy: 100.00%\n",
      "Epoch [2/2], Step [1512/2400], Loss: 0.0188, Accuracy: 100.00%\n",
      "Epoch [2/2], Step [1536/2400], Loss: 0.0374, Accuracy: 96.00%\n",
      "Epoch [2/2], Step [1560/2400], Loss: 0.0040, Accuracy: 100.00%\n",
      "Epoch [2/2], Step [1584/2400], Loss: 0.0036, Accuracy: 100.00%\n",
      "Epoch [2/2], Step [1608/2400], Loss: 0.0217, Accuracy: 100.00%\n",
      "Epoch [2/2], Step [1632/2400], Loss: 0.0052, Accuracy: 100.00%\n",
      "Epoch [2/2], Step [1656/2400], Loss: 0.0118, Accuracy: 100.00%\n",
      "Epoch [2/2], Step [1680/2400], Loss: 0.0269, Accuracy: 100.00%\n",
      "Epoch [2/2], Step [1704/2400], Loss: 0.0734, Accuracy: 96.00%\n",
      "Epoch [2/2], Step [1728/2400], Loss: 0.0126, Accuracy: 100.00%\n",
      "Epoch [2/2], Step [1752/2400], Loss: 0.1413, Accuracy: 92.00%\n",
      "Epoch [2/2], Step [1776/2400], Loss: 0.0023, Accuracy: 100.00%\n",
      "Epoch [2/2], Step [1800/2400], Loss: 0.0992, Accuracy: 96.00%\n",
      "Epoch [2/2], Step [1824/2400], Loss: 0.0304, Accuracy: 100.00%\n",
      "Epoch [2/2], Step [1848/2400], Loss: 0.0108, Accuracy: 100.00%\n",
      "Epoch [2/2], Step [1872/2400], Loss: 0.0188, Accuracy: 100.00%\n",
      "Epoch [2/2], Step [1896/2400], Loss: 0.0262, Accuracy: 100.00%\n",
      "Epoch [2/2], Step [1920/2400], Loss: 0.0210, Accuracy: 100.00%\n",
      "Epoch [2/2], Step [1944/2400], Loss: 0.0223, Accuracy: 100.00%\n",
      "Epoch [2/2], Step [1968/2400], Loss: 0.0112, Accuracy: 100.00%\n",
      "Epoch [2/2], Step [1992/2400], Loss: 0.0744, Accuracy: 96.00%\n",
      "Epoch [2/2], Step [2016/2400], Loss: 0.0053, Accuracy: 100.00%\n",
      "Epoch [2/2], Step [2040/2400], Loss: 0.0171, Accuracy: 100.00%\n",
      "Epoch [2/2], Step [2064/2400], Loss: 0.0698, Accuracy: 96.00%\n",
      "Epoch [2/2], Step [2088/2400], Loss: 0.0673, Accuracy: 96.00%\n",
      "Epoch [2/2], Step [2112/2400], Loss: 0.0244, Accuracy: 100.00%\n",
      "Epoch [2/2], Step [2136/2400], Loss: 0.2484, Accuracy: 92.00%\n",
      "Epoch [2/2], Step [2160/2400], Loss: 0.3317, Accuracy: 96.00%\n",
      "Epoch [2/2], Step [2184/2400], Loss: 0.0203, Accuracy: 100.00%\n",
      "Epoch [2/2], Step [2208/2400], Loss: 0.0177, Accuracy: 100.00%\n",
      "Epoch [2/2], Step [2232/2400], Loss: 0.0632, Accuracy: 100.00%\n",
      "Epoch [2/2], Step [2256/2400], Loss: 0.0109, Accuracy: 100.00%\n",
      "Epoch [2/2], Step [2280/2400], Loss: 0.3359, Accuracy: 88.00%\n",
      "Epoch [2/2], Step [2304/2400], Loss: 0.0522, Accuracy: 100.00%\n",
      "Epoch [2/2], Step [2328/2400], Loss: 0.0749, Accuracy: 96.00%\n",
      "Epoch [2/2], Step [2352/2400], Loss: 0.0010, Accuracy: 100.00%\n",
      "Epoch [2/2], Step [2376/2400], Loss: 0.1196, Accuracy: 96.00%\n",
      "Epoch [2/2], Step [2400/2400], Loss: 0.0681, Accuracy: 96.00%\n"
     ]
    }
   ],
   "source": [
    "# Train the model\n",
    "total_step = len(train_loader)\n",
    "loss_list = []\n",
    "acc_list = []\n",
    "Yacc = []\n",
    "Yloss = []\n",
    "for epoch in range(num_epochs):\n",
    "    for i, (imgs, lbls) in enumerate(train_loader):\n",
    "        # Run the forward pass\n",
    "        outputs = model(imgs)\n",
    "        loss = criterion(outputs, lbls)\n",
    "        loss_list.append(loss.item())\n",
    "\n",
    "        # Backprop and perform Adam optimisation\n",
    "        optimizer.zero_grad()\n",
    "        loss.backward()\n",
    "        optimizer.step()\n",
    "\n",
    "        # Track the accuracy\n",
    "        total = lbls.size(0)\n",
    "        _, predicted = torch.max(outputs.data, 1)\n",
    "        correct = (predicted == lbls).sum().item()\n",
    "        acc_list.append(correct / total)\n",
    "        #print(i)\n",
    "\n",
    "        if (i + 1) % int(printNow) == 0:\n",
    "            Yacc.append((correct / total) * 100)\n",
    "            Yloss.append(loss.item())\n",
    "            print('Epoch [{}/{}], Step [{}/{}], Loss: {:.4f}, Accuracy: {:.2f}%'\n",
    "                  .format(epoch + 1, num_epochs, i + 1, total_step, loss.item(),\n",
    "                          (correct / total) * 100))"
   ]
  },
  {
   "cell_type": "code",
   "execution_count": 980,
   "metadata": {},
   "outputs": [
    {
     "name": "stdout",
     "output_type": "stream",
     "text": [
      "Test Accuracy of the model: 98.85000000000001 %\n"
     ]
    }
   ],
   "source": [
    "# Test the model\n",
    "model.eval()\n",
    "with torch.no_grad():\n",
    "    correct = 0\n",
    "    total = 0\n",
    "    for images, labels in test_loader:\n",
    "        outputs = model(images)\n",
    "        _, predicted = torch.max(outputs.data, 1)\n",
    "        total += labels.size(0)\n",
    "        correct += (predicted == labels).sum().item()\n",
    "\n",
    "    print('Test Accuracy of the model: {} %'.format((correct / total) * 100))\n",
    "\n",
    "# Save the model and plot\n",
    "torch.save(model.state_dict(), MODEL_STORE_PATH + 'conv_net_model.ckpt')"
   ]
  },
  {
   "cell_type": "code",
   "execution_count": 981,
   "metadata": {},
   "outputs": [
    {
     "data": {
      "image/png": "[encoded data removed]",
      "text/plain": [
       "<Figure size 432x288 with 1 Axes>"
      ]
     },
     "metadata": {
      "needs_background": "light"
     },
     "output_type": "display_data"
    },
    {
     "data": {
      "image/png": "[encoded data removed]",
      "text/plain": [
       "<Figure size 432x288 with 1 Axes>"
      ]
     },
     "metadata": {
      "needs_background": "light"
     },
     "output_type": "display_data"
    }
   ],
   "source": [
    "\n",
    "# plotting the points  \n",
    "plt.plot(Yloss, label=\"loss\") \n",
    "\n",
    "  \n",
    "# Place a legend to the right of this smaller subplot.\n",
    "plt.legend(bbox_to_anchor=(1.05, 1), loc='upper left', borderaxespad=0.) \n",
    "\n",
    "# naming the x axis \n",
    "plt.xlabel('epochs') \n",
    "# naming the y axis \n",
    "plt.ylabel('loss') \n",
    "  \n",
    "# giving a title to my graph \n",
    "plt.title('Loss Visualization During training') \n",
    "  \n",
    "# function to show the plot \n",
    "plt.show() \n",
    "\n",
    "plt.plot(Yacc, label=\"accuracy\") \n",
    "\n",
    "plt.legend(bbox_to_anchor=(1.05, 1), loc='upper left', borderaxespad=0.) \n",
    "\n",
    "# naming the x axis \n",
    "plt.xlabel('epochs') \n",
    "# naming the y axis \n",
    "plt.ylabel('accuracy') \n",
    "plt.title('Accuracy Visualization During training') \n",
    "\n",
    "plt.show()\n"
   ]
  },
  {
   "cell_type": "code",
   "execution_count": 982,
   "metadata": {},
   "outputs": [
    {
     "name": "stdout",
     "output_type": "stream",
     "text": [
      "Expected Label: 8 Correct Label: 8\n"
     ]
    },
    {
     "data": {
      "image/png": "[encoded data removed]",
      "text/plain": [
       "<Figure size 432x288 with 1 Axes>"
      ]
     },
     "metadata": {
      "needs_background": "light"
     },
     "output_type": "display_data"
    },
    {
     "name": "stdout",
     "output_type": "stream",
     "text": [
      "Expected Label: 0 Correct Label: 0\n"
     ]
    },
    {
     "data": {
      "image/png": "[encoded data removed]",
      "text/plain": [
       "<Figure size 432x288 with 1 Axes>"
      ]
     },
     "metadata": {
      "needs_background": "light"
     },
     "output_type": "display_data"
    },
    {
     "name": "stdout",
     "output_type": "stream",
     "text": [
      "Expected Label: 5 Correct Label: 5\n"
     ]
    },
    {
     "data": {
      "image/png": "[encoded data removed]",
      "text/plain": [
       "<Figure size 432x288 with 1 Axes>"
      ]
     },
     "metadata": {
      "needs_background": "light"
     },
     "output_type": "display_data"
    },
    {
     "name": "stdout",
     "output_type": "stream",
     "text": [
      "Expected Label: 5 Correct Label: 5\n"
     ]
    },
    {
     "data": {
      "image/png": "[encoded data removed]",
      "text/plain": [
       "<Figure size 432x288 with 1 Axes>"
      ]
     },
     "metadata": {
      "needs_background": "light"
     },
     "output_type": "display_data"
    },
    {
     "name": "stdout",
     "output_type": "stream",
     "text": [
      "Expected Label: 5 Correct Label: 5\n"
     ]
    },
    {
     "data": {
      "image/png": "[encoded data removed]",
      "text/plain": [
       "<Figure size 432x288 with 1 Axes>"
      ]
     },
     "metadata": {
      "needs_background": "light"
     },
     "output_type": "display_data"
    },
    {
     "name": "stdout",
     "output_type": "stream",
     "text": [
      "Expected Label: 3 Correct Label: 3\n"
     ]
    },
    {
     "data": {
      "image/png": "[encoded data removed]",
      "text/plain": [
       "<Figure size 432x288 with 1 Axes>"
      ]
     },
     "metadata": {
      "needs_background": "light"
     },
     "output_type": "display_data"
    },
    {
     "name": "stdout",
     "output_type": "stream",
     "text": [
      "Expected Label: 4 Correct Label: 4\n"
     ]
    },
    {
     "data": {
      "image/png": "[encoded data removed]",
      "text/plain": [
       "<Figure size 432x288 with 1 Axes>"
      ]
     },
     "metadata": {
      "needs_background": "light"
     },
     "output_type": "display_data"
    },
    {
     "name": "stdout",
     "output_type": "stream",
     "text": [
      "Expected Label: 0 Correct Label: 0\n"
     ]
    },
    {
     "data": {
      "image/png": "[encoded data removed]",
      "text/plain": [
       "<Figure size 432x288 with 1 Axes>"
      ]
     },
     "metadata": {
      "needs_background": "light"
     },
     "output_type": "display_data"
    },
    {
     "name": "stdout",
     "output_type": "stream",
     "text": [
      "Expected Label: 5 Correct Label: 5\n"
     ]
    },
    {
     "data": {
      "image/png": "[encoded data removed]",
      "text/plain": [
       "<Figure size 432x288 with 1 Axes>"
      ]
     },
     "metadata": {
      "needs_background": "light"
     },
     "output_type": "display_data"
    },
    {
     "name": "stdout",
     "output_type": "stream",
     "text": [
      "Expected Label: 7 Correct Label: 7\n"
     ]
    },
    {
     "data": {
      "image/png": "[encoded data removed]",
      "text/plain": [
       "<Figure size 432x288 with 1 Axes>"
      ]
     },
     "metadata": {
      "needs_background": "light"
     },
     "output_type": "display_data"
    }
   ],
   "source": [
    "model.eval()\n",
    "for images, labels in test_loader:\n",
    "    outputs = model(images)\n",
    "    _, predicted = torch.max(outputs.data, 1)\n",
    "\n",
    "\n",
    "for i in range(10):\n",
    "    print(f'Expected Label: {predicted[i]} Correct Label: {labels[i]}')\n",
    "    showImage(images[i])"
   ]
  },
  {
   "cell_type": "markdown",
   "metadata": {},
   "source": [
    "# Next Part of Homework"
   ]
  },
  {
   "cell_type": "code",
   "execution_count": 983,
   "metadata": {},
   "outputs": [],
   "source": [
    "class ConvNetMix(nn.Module):\n",
    "    def __init__(self):\n",
    "        super(ConvNetMix, self).__init__()\n",
    "        self.layer1 = nn.Sequential(\n",
    "            nn.Conv2d(1, 32, kernel_size=5, stride=1, padding=2),\n",
    "            nn.ReLU(),\n",
    "            nn.MaxPool2d(kernel_size=2, stride=2))\n",
    "        self.layer2 = nn.Sequential(\n",
    "            nn.Conv2d(32, 64, kernel_size=5, stride=1, padding=2),\n",
    "            nn.ReLU(),\n",
    "            nn.MaxPool2d(kernel_size=2, stride=2))\n",
    "        self.drop_out = nn.Dropout()\n",
    "        self.fc1 = nn.Linear(7 * 7 * 64, 1000)\n",
    "        self.fc2 = nn.Linear(1000, 10)\n",
    "    def forward(self, x):\n",
    "        out = self.layer1(x)\n",
    "        out = self.layer2(out)\n",
    "        out = out.reshape(out.size(0), -1)\n",
    "        out = self.drop_out(out)\n",
    "        out = self.fc1(out)\n",
    "        out = self.fc2(out)\n",
    "        return out"
   ]
  },
  {
   "cell_type": "code",
   "execution_count": 880,
   "metadata": {},
   "outputs": [
    {
     "name": "stdout",
     "output_type": "stream",
     "text": [
      "1263\n",
      "torch.Size([1263, 1, 28, 28])\n"
     ]
    }
   ],
   "source": [
    "diffs = torch.zeros(0, 1, 28, 28)\n",
    "for i in range(Xtr.shape[0]):\n",
    "    im = Xtr[i]\n",
    "    diff = im - Xtr\n",
    "    diff = diff.mean(0)\n",
    "    diff = torch.abs(diff)\n",
    "    diff = diff.unsqueeze(0)\n",
    "    #print(diff.shape)\n",
    "    diffs = torch.cat((diffs, diff), 0)\n",
    "        \n",
    "stnDev = diffs.std(0)\n",
    "newDataSet = torch.zeros(0, 1, 28, 28)\n",
    "\n",
    "##print(stnDev.shape)\n",
    "#print(Xtr[0].shape)\n",
    "\n",
    "stnDev = stnDev.mean(0).mean(0).mean(0)\n",
    "\n",
    "for i in range(Xtr.shape[0]):\n",
    "    if ((Xtr[i].mean(0).mean(0).mean(0)<stnDev.mean(0).mean(0).mean(0)*(1)) \n",
    "        and (Xtr[i].mean(0).mean(0).mean(0)>stnDev.mean(0).mean(0).mean(0)*(-1))):\n",
    "        newDataSet = torch.cat((newDataSet, Xtr[i].unsqueeze(0)), 0)\n",
    "    \n",
    "newlabels = []\n",
    "for i in range(newDataSet.shape[0]):\n",
    "    newlabels.append(Ytr[i])\n",
    "    \n",
    "\n",
    "print(len(newlabels))\n",
    "print(newDataSet.shape)"
   ]
  },
  {
   "cell_type": "code",
   "execution_count": null,
   "metadata": {},
   "outputs": [],
   "source": []
  },
  {
   "cell_type": "code",
   "execution_count": 881,
   "metadata": {},
   "outputs": [
    {
     "name": "stdout",
     "output_type": "stream",
     "text": [
      "torch.Size([5010, 1, 28, 28])\n",
      "torch.Size([1, 28, 28])\n",
      "torch.Size([5010, 1, 28, 28])\n"
     ]
    }
   ],
   "source": [
    "#for i in range(Xtr.shape[0]):\n",
    "im = Xtr[0]\n",
    "#im = im.unsqueeze(0)\n",
    "d = im - Xtr\n",
    "print(d.shape)\n",
    "print(im.shape)\n",
    "print(Xtr.shape)\n",
    "\n"
   ]
  },
  {
   "cell_type": "code",
   "execution_count": 882,
   "metadata": {},
   "outputs": [
    {
     "name": "stdout",
     "output_type": "stream",
     "text": [
      "tensor([[[2., 2.],\n",
      "         [3., 4.]],\n",
      "\n",
      "        [[5., 6.],\n",
      "         [7., 8.]]])\n",
      "tensor([[1., 2.],\n",
      "        [3., 4.]])\n",
      "torch.Size([2, 2, 2])\n",
      "torch.Size([2, 2])\n",
      "torch.Size([2, 2, 2])\n",
      "tensor([[[-1.,  0.],\n",
      "         [ 0.,  0.]],\n",
      "\n",
      "        [[-4., -4.],\n",
      "         [-4., -4.]]])\n",
      "torch.Size([2, 2])\n"
     ]
    }
   ],
   "source": [
    "a = torch.Tensor([[[2,2],[3,4]],[[5,6],[7,8]]])\n",
    "b = torch.Tensor([[1,2],[3,4]])\n",
    "\n",
    "print(a)\n",
    "print(b)\n",
    "print(a.shape)\n",
    "print(b.shape)\n",
    "r = b - a\n",
    "print(r.shape)\n",
    "print(r)\n",
    "r = r.mean(0)\n",
    "print(r.shape)"
   ]
  },
  {
   "cell_type": "code",
   "execution_count": 985,
   "metadata": {},
   "outputs": [],
   "source": [
    "Xtrm, Ytrm = readData(mix=True)\n",
    "Xtsm, Ytsm = readData(train=False, mix=True)\n",
    "\n",
    "#Xtrm, Ytrm = readData(mix=True, cleanData=True)\n",
    "#Xtsm, Ytsm = readData(train=False, mix=True, cleanData=True)\n",
    "\n",
    "\n",
    "\n"
   ]
  },
  {
   "cell_type": "code",
   "execution_count": 986,
   "metadata": {},
   "outputs": [
    {
     "name": "stdout",
     "output_type": "stream",
     "text": [
      "10000\n",
      "torch.Size([10000, 1, 28, 28])\n",
      "60000\n",
      "torch.Size([60000, 1, 28, 28])\n"
     ]
    }
   ],
   "source": [
    "print(len(Ytsm))\n",
    "print(Xtsm.shape)\n",
    "print(len(Ytrm))\n",
    "print(Xtrm.shape)"
   ]
  },
  {
   "cell_type": "code",
   "execution_count": 987,
   "metadata": {},
   "outputs": [],
   "source": [
    "trainM_dataset = []\n",
    "testM_dataset = []\n",
    "\n",
    "for i in range(Xtrm.shape[0]):\n",
    "   trainM_dataset.append([Xtrm[i], Ytrm[i]])\n",
    "for i in range(Xtsm.shape[0]):\n",
    "   testM_dataset.append([Xtsm[i], Ytsm[i]])\n",
    "\n",
    "trainM_loader = DataLoader(dataset=trainM_dataset, batch_size=batch_size, shuffle=True)\n",
    "testM_loader = DataLoader(dataset=testM_dataset, batch_size=batch_size, shuffle=True)"
   ]
  },
  {
   "cell_type": "code",
   "execution_count": 988,
   "metadata": {},
   "outputs": [
    {
     "name": "stdout",
     "output_type": "stream",
     "text": [
      "60000\n"
     ]
    }
   ],
   "source": [
    "\n",
    "print(Xtrm.shape[0])"
   ]
  },
  {
   "cell_type": "code",
   "execution_count": 989,
   "metadata": {},
   "outputs": [
    {
     "name": "stdout",
     "output_type": "stream",
     "text": [
      "torch.Size([25, 1, 28, 28])\n",
      "torch.Size([25, 1])\n"
     ]
    }
   ],
   "source": [
    "imgs, lbls = next(iter(trainM_loader))\n",
    "print(imgs.shape)\n",
    "mean = imgs.mean(2)\n",
    "mean = mean.mean(2)\n",
    "print(mean.shape)"
   ]
  },
  {
   "cell_type": "code",
   "execution_count": 990,
   "metadata": {},
   "outputs": [],
   "source": [
    "model2 = ConvNetMix ()\n",
    "\n",
    "# Loss and optimizer\n",
    "criterion2 = nn.CrossEntropyLoss()\n",
    "optimizer2 = torch.optim.Adam(model2.parameters(), lr=learning_rate)"
   ]
  },
  {
   "cell_type": "code",
   "execution_count": 991,
   "metadata": {},
   "outputs": [
    {
     "name": "stdout",
     "output_type": "stream",
     "text": [
      "Epoch [1/2], Step [24/2400], Loss: 2.1870, Accuracy: 24.00%\n",
      "Epoch [1/2], Step [48/2400], Loss: 2.1240, Accuracy: 36.00%\n",
      "Epoch [1/2], Step [72/2400], Loss: 2.2171, Accuracy: 32.00%\n",
      "Epoch [1/2], Step [96/2400], Loss: 2.0159, Accuracy: 36.00%\n",
      "Epoch [1/2], Step [120/2400], Loss: 1.9491, Accuracy: 52.00%\n",
      "Epoch [1/2], Step [144/2400], Loss: 1.8905, Accuracy: 48.00%\n",
      "Epoch [1/2], Step [168/2400], Loss: 2.1202, Accuracy: 40.00%\n",
      "Epoch [1/2], Step [192/2400], Loss: 1.9605, Accuracy: 40.00%\n",
      "Epoch [1/2], Step [216/2400], Loss: 1.9625, Accuracy: 40.00%\n",
      "Epoch [1/2], Step [240/2400], Loss: 2.0507, Accuracy: 36.00%\n",
      "Epoch [1/2], Step [264/2400], Loss: 2.2154, Accuracy: 36.00%\n",
      "Epoch [1/2], Step [288/2400], Loss: 1.9620, Accuracy: 48.00%\n",
      "Epoch [1/2], Step [312/2400], Loss: 1.9644, Accuracy: 44.00%\n",
      "Epoch [1/2], Step [336/2400], Loss: 1.9135, Accuracy: 44.00%\n",
      "Epoch [1/2], Step [360/2400], Loss: 1.8588, Accuracy: 52.00%\n",
      "Epoch [1/2], Step [384/2400], Loss: 1.8467, Accuracy: 40.00%\n",
      "Epoch [1/2], Step [408/2400], Loss: 1.6258, Accuracy: 56.00%\n",
      "Epoch [1/2], Step [432/2400], Loss: 2.1525, Accuracy: 32.00%\n",
      "Epoch [1/2], Step [456/2400], Loss: 1.7970, Accuracy: 60.00%\n",
      "Epoch [1/2], Step [480/2400], Loss: 1.9067, Accuracy: 52.00%\n",
      "Epoch [1/2], Step [504/2400], Loss: 2.3008, Accuracy: 28.00%\n",
      "Epoch [1/2], Step [528/2400], Loss: 1.9950, Accuracy: 40.00%\n",
      "Epoch [1/2], Step [552/2400], Loss: 2.1605, Accuracy: 36.00%\n",
      "Epoch [1/2], Step [576/2400], Loss: 2.1797, Accuracy: 32.00%\n",
      "Epoch [1/2], Step [600/2400], Loss: 1.9564, Accuracy: 40.00%\n",
      "Epoch [1/2], Step [624/2400], Loss: 1.8500, Accuracy: 48.00%\n",
      "Epoch [1/2], Step [648/2400], Loss: 1.9593, Accuracy: 52.00%\n",
      "Epoch [1/2], Step [672/2400], Loss: 2.2530, Accuracy: 32.00%\n",
      "Epoch [1/2], Step [696/2400], Loss: 2.1441, Accuracy: 36.00%\n",
      "Epoch [1/2], Step [720/2400], Loss: 2.0464, Accuracy: 40.00%\n",
      "Epoch [1/2], Step [744/2400], Loss: 1.8265, Accuracy: 52.00%\n",
      "Epoch [1/2], Step [768/2400], Loss: 2.0448, Accuracy: 36.00%\n",
      "Epoch [1/2], Step [792/2400], Loss: 2.0563, Accuracy: 40.00%\n",
      "Epoch [1/2], Step [816/2400], Loss: 1.9880, Accuracy: 28.00%\n",
      "Epoch [1/2], Step [840/2400], Loss: 1.8995, Accuracy: 48.00%\n",
      "Epoch [1/2], Step [864/2400], Loss: 1.9569, Accuracy: 32.00%\n",
      "Epoch [1/2], Step [888/2400], Loss: 1.6588, Accuracy: 52.00%\n",
      "Epoch [1/2], Step [912/2400], Loss: 1.8122, Accuracy: 52.00%\n",
      "Epoch [1/2], Step [936/2400], Loss: 1.7793, Accuracy: 52.00%\n",
      "Epoch [1/2], Step [960/2400], Loss: 1.9166, Accuracy: 56.00%\n",
      "Epoch [1/2], Step [984/2400], Loss: 1.9031, Accuracy: 44.00%\n",
      "Epoch [1/2], Step [1008/2400], Loss: 1.8966, Accuracy: 48.00%\n",
      "Epoch [1/2], Step [1032/2400], Loss: 2.0346, Accuracy: 48.00%\n",
      "Epoch [1/2], Step [1056/2400], Loss: 2.0292, Accuracy: 44.00%\n",
      "Epoch [1/2], Step [1080/2400], Loss: 2.0154, Accuracy: 36.00%\n",
      "Epoch [1/2], Step [1104/2400], Loss: 1.8096, Accuracy: 56.00%\n",
      "Epoch [1/2], Step [1128/2400], Loss: 1.9379, Accuracy: 44.00%\n",
      "Epoch [1/2], Step [1152/2400], Loss: 1.9561, Accuracy: 52.00%\n",
      "Epoch [1/2], Step [1176/2400], Loss: 1.9397, Accuracy: 48.00%\n",
      "Epoch [1/2], Step [1200/2400], Loss: 2.0876, Accuracy: 36.00%\n",
      "Epoch [1/2], Step [1224/2400], Loss: 1.9194, Accuracy: 36.00%\n",
      "Epoch [1/2], Step [1248/2400], Loss: 2.0956, Accuracy: 44.00%\n",
      "Epoch [1/2], Step [1272/2400], Loss: 1.8742, Accuracy: 44.00%\n",
      "Epoch [1/2], Step [1296/2400], Loss: 2.0808, Accuracy: 40.00%\n",
      "Epoch [1/2], Step [1320/2400], Loss: 2.1759, Accuracy: 32.00%\n",
      "Epoch [1/2], Step [1344/2400], Loss: 1.6756, Accuracy: 52.00%\n",
      "Epoch [1/2], Step [1368/2400], Loss: 2.0732, Accuracy: 36.00%\n",
      "Epoch [1/2], Step [1392/2400], Loss: 1.8503, Accuracy: 48.00%\n",
      "Epoch [1/2], Step [1416/2400], Loss: 1.9266, Accuracy: 48.00%\n",
      "Epoch [1/2], Step [1440/2400], Loss: 2.0489, Accuracy: 32.00%\n",
      "Epoch [1/2], Step [1464/2400], Loss: 1.9597, Accuracy: 48.00%\n",
      "Epoch [1/2], Step [1488/2400], Loss: 1.9785, Accuracy: 48.00%\n",
      "Epoch [1/2], Step [1512/2400], Loss: 2.1416, Accuracy: 32.00%\n",
      "Epoch [1/2], Step [1536/2400], Loss: 1.8328, Accuracy: 56.00%\n",
      "Epoch [1/2], Step [1560/2400], Loss: 1.8419, Accuracy: 48.00%\n",
      "Epoch [1/2], Step [1584/2400], Loss: 2.4279, Accuracy: 32.00%\n",
      "Epoch [1/2], Step [1608/2400], Loss: 1.6390, Accuracy: 52.00%\n",
      "Epoch [1/2], Step [1632/2400], Loss: 1.8754, Accuracy: 36.00%\n",
      "Epoch [1/2], Step [1656/2400], Loss: 1.9624, Accuracy: 48.00%\n",
      "Epoch [1/2], Step [1680/2400], Loss: 2.1497, Accuracy: 36.00%\n",
      "Epoch [1/2], Step [1704/2400], Loss: 1.7461, Accuracy: 52.00%\n",
      "Epoch [1/2], Step [1728/2400], Loss: 2.1352, Accuracy: 40.00%\n",
      "Epoch [1/2], Step [1752/2400], Loss: 2.3680, Accuracy: 32.00%\n",
      "Epoch [1/2], Step [1776/2400], Loss: 2.0451, Accuracy: 44.00%\n",
      "Epoch [1/2], Step [1800/2400], Loss: 1.8951, Accuracy: 56.00%\n",
      "Epoch [1/2], Step [1824/2400], Loss: 1.7464, Accuracy: 56.00%\n",
      "Epoch [1/2], Step [1848/2400], Loss: 2.1509, Accuracy: 44.00%\n",
      "Epoch [1/2], Step [1872/2400], Loss: 1.7857, Accuracy: 52.00%\n",
      "Epoch [1/2], Step [1896/2400], Loss: 1.6090, Accuracy: 56.00%\n",
      "Epoch [1/2], Step [1920/2400], Loss: 1.9119, Accuracy: 48.00%\n",
      "Epoch [1/2], Step [1944/2400], Loss: 1.7725, Accuracy: 56.00%\n",
      "Epoch [1/2], Step [1968/2400], Loss: 1.9954, Accuracy: 44.00%\n",
      "Epoch [1/2], Step [1992/2400], Loss: 1.8832, Accuracy: 44.00%\n",
      "Epoch [1/2], Step [2016/2400], Loss: 1.6742, Accuracy: 52.00%\n",
      "Epoch [1/2], Step [2040/2400], Loss: 1.6710, Accuracy: 68.00%\n",
      "Epoch [1/2], Step [2064/2400], Loss: 1.9660, Accuracy: 44.00%\n",
      "Epoch [1/2], Step [2088/2400], Loss: 1.9104, Accuracy: 40.00%\n",
      "Epoch [1/2], Step [2112/2400], Loss: 2.0045, Accuracy: 40.00%\n",
      "Epoch [1/2], Step [2136/2400], Loss: 1.9771, Accuracy: 44.00%\n",
      "Epoch [1/2], Step [2160/2400], Loss: 2.0780, Accuracy: 52.00%\n",
      "Epoch [1/2], Step [2184/2400], Loss: 1.5215, Accuracy: 60.00%\n",
      "Epoch [1/2], Step [2208/2400], Loss: 1.8514, Accuracy: 44.00%\n",
      "Epoch [1/2], Step [2232/2400], Loss: 1.8874, Accuracy: 48.00%\n",
      "Epoch [1/2], Step [2256/2400], Loss: 1.8747, Accuracy: 48.00%\n",
      "Epoch [1/2], Step [2280/2400], Loss: 1.7295, Accuracy: 52.00%\n",
      "Epoch [1/2], Step [2304/2400], Loss: 1.8596, Accuracy: 48.00%\n",
      "Epoch [1/2], Step [2328/2400], Loss: 2.1751, Accuracy: 36.00%\n",
      "Epoch [1/2], Step [2352/2400], Loss: 1.8592, Accuracy: 52.00%\n",
      "Epoch [1/2], Step [2376/2400], Loss: 1.8866, Accuracy: 44.00%\n",
      "Epoch [1/2], Step [2400/2400], Loss: 1.8962, Accuracy: 48.00%\n",
      "Epoch [2/2], Step [24/2400], Loss: 1.9265, Accuracy: 48.00%\n",
      "Epoch [2/2], Step [48/2400], Loss: 1.8929, Accuracy: 44.00%\n",
      "Epoch [2/2], Step [72/2400], Loss: 2.1444, Accuracy: 28.00%\n",
      "Epoch [2/2], Step [96/2400], Loss: 1.9632, Accuracy: 40.00%\n",
      "Epoch [2/2], Step [120/2400], Loss: 1.9713, Accuracy: 40.00%\n",
      "Epoch [2/2], Step [144/2400], Loss: 2.0715, Accuracy: 44.00%\n",
      "Epoch [2/2], Step [168/2400], Loss: 1.5585, Accuracy: 56.00%\n",
      "Epoch [2/2], Step [192/2400], Loss: 1.7786, Accuracy: 52.00%\n",
      "Epoch [2/2], Step [216/2400], Loss: 1.9640, Accuracy: 44.00%\n",
      "Epoch [2/2], Step [240/2400], Loss: 1.8875, Accuracy: 52.00%\n",
      "Epoch [2/2], Step [264/2400], Loss: 1.6277, Accuracy: 60.00%\n",
      "Epoch [2/2], Step [288/2400], Loss: 2.0391, Accuracy: 36.00%\n",
      "Epoch [2/2], Step [312/2400], Loss: 1.9826, Accuracy: 48.00%\n",
      "Epoch [2/2], Step [336/2400], Loss: 1.8816, Accuracy: 44.00%\n",
      "Epoch [2/2], Step [360/2400], Loss: 1.6187, Accuracy: 64.00%\n",
      "Epoch [2/2], Step [384/2400], Loss: 2.0891, Accuracy: 44.00%\n",
      "Epoch [2/2], Step [408/2400], Loss: 1.8865, Accuracy: 48.00%\n",
      "Epoch [2/2], Step [432/2400], Loss: 1.8071, Accuracy: 52.00%\n",
      "Epoch [2/2], Step [456/2400], Loss: 2.1338, Accuracy: 44.00%\n",
      "Epoch [2/2], Step [480/2400], Loss: 2.0256, Accuracy: 36.00%\n",
      "Epoch [2/2], Step [504/2400], Loss: 2.0990, Accuracy: 40.00%\n",
      "Epoch [2/2], Step [528/2400], Loss: 1.8509, Accuracy: 44.00%\n",
      "Epoch [2/2], Step [552/2400], Loss: 2.0644, Accuracy: 48.00%\n",
      "Epoch [2/2], Step [576/2400], Loss: 2.1139, Accuracy: 48.00%\n",
      "Epoch [2/2], Step [600/2400], Loss: 1.8182, Accuracy: 48.00%\n",
      "Epoch [2/2], Step [624/2400], Loss: 2.0648, Accuracy: 28.00%\n",
      "Epoch [2/2], Step [648/2400], Loss: 1.9706, Accuracy: 40.00%\n",
      "Epoch [2/2], Step [672/2400], Loss: 1.6822, Accuracy: 56.00%\n",
      "Epoch [2/2], Step [696/2400], Loss: 1.8445, Accuracy: 52.00%\n",
      "Epoch [2/2], Step [720/2400], Loss: 1.7809, Accuracy: 52.00%\n",
      "Epoch [2/2], Step [744/2400], Loss: 1.9471, Accuracy: 40.00%\n",
      "Epoch [2/2], Step [768/2400], Loss: 1.9372, Accuracy: 48.00%\n",
      "Epoch [2/2], Step [792/2400], Loss: 2.1337, Accuracy: 32.00%\n",
      "Epoch [2/2], Step [816/2400], Loss: 2.1958, Accuracy: 32.00%\n",
      "Epoch [2/2], Step [840/2400], Loss: 2.0602, Accuracy: 44.00%\n",
      "Epoch [2/2], Step [864/2400], Loss: 1.9755, Accuracy: 40.00%\n",
      "Epoch [2/2], Step [888/2400], Loss: 1.7497, Accuracy: 44.00%\n",
      "Epoch [2/2], Step [912/2400], Loss: 2.1039, Accuracy: 40.00%\n",
      "Epoch [2/2], Step [936/2400], Loss: 1.6807, Accuracy: 52.00%\n",
      "Epoch [2/2], Step [960/2400], Loss: 1.8651, Accuracy: 44.00%\n",
      "Epoch [2/2], Step [984/2400], Loss: 1.8652, Accuracy: 60.00%\n",
      "Epoch [2/2], Step [1008/2400], Loss: 1.8159, Accuracy: 52.00%\n",
      "Epoch [2/2], Step [1032/2400], Loss: 1.7829, Accuracy: 56.00%\n",
      "Epoch [2/2], Step [1056/2400], Loss: 1.8649, Accuracy: 52.00%\n",
      "Epoch [2/2], Step [1080/2400], Loss: 1.6415, Accuracy: 64.00%\n",
      "Epoch [2/2], Step [1104/2400], Loss: 1.9886, Accuracy: 44.00%\n",
      "Epoch [2/2], Step [1128/2400], Loss: 1.9359, Accuracy: 48.00%\n",
      "Epoch [2/2], Step [1152/2400], Loss: 1.6087, Accuracy: 52.00%\n",
      "Epoch [2/2], Step [1176/2400], Loss: 1.9827, Accuracy: 40.00%\n",
      "Epoch [2/2], Step [1200/2400], Loss: 1.8078, Accuracy: 52.00%\n",
      "Epoch [2/2], Step [1224/2400], Loss: 1.8492, Accuracy: 52.00%\n",
      "Epoch [2/2], Step [1248/2400], Loss: 1.7484, Accuracy: 56.00%\n",
      "Epoch [2/2], Step [1272/2400], Loss: 1.8608, Accuracy: 48.00%\n",
      "Epoch [2/2], Step [1296/2400], Loss: 1.9729, Accuracy: 40.00%\n",
      "Epoch [2/2], Step [1320/2400], Loss: 2.3889, Accuracy: 28.00%\n",
      "Epoch [2/2], Step [1344/2400], Loss: 1.9983, Accuracy: 36.00%\n",
      "Epoch [2/2], Step [1368/2400], Loss: 1.6822, Accuracy: 56.00%\n",
      "Epoch [2/2], Step [1392/2400], Loss: 1.7563, Accuracy: 52.00%\n",
      "Epoch [2/2], Step [1416/2400], Loss: 1.7777, Accuracy: 48.00%\n",
      "Epoch [2/2], Step [1440/2400], Loss: 1.8790, Accuracy: 48.00%\n",
      "Epoch [2/2], Step [1464/2400], Loss: 2.1303, Accuracy: 40.00%\n",
      "Epoch [2/2], Step [1488/2400], Loss: 1.9092, Accuracy: 52.00%\n",
      "Epoch [2/2], Step [1512/2400], Loss: 2.5814, Accuracy: 20.00%\n",
      "Epoch [2/2], Step [1536/2400], Loss: 1.9803, Accuracy: 48.00%\n",
      "Epoch [2/2], Step [1560/2400], Loss: 1.6780, Accuracy: 64.00%\n",
      "Epoch [2/2], Step [1584/2400], Loss: 1.8717, Accuracy: 48.00%\n",
      "Epoch [2/2], Step [1608/2400], Loss: 1.8193, Accuracy: 52.00%\n",
      "Epoch [2/2], Step [1632/2400], Loss: 2.0380, Accuracy: 36.00%\n",
      "Epoch [2/2], Step [1656/2400], Loss: 1.4893, Accuracy: 64.00%\n",
      "Epoch [2/2], Step [1680/2400], Loss: 1.6945, Accuracy: 56.00%\n",
      "Epoch [2/2], Step [1704/2400], Loss: 1.7018, Accuracy: 56.00%\n",
      "Epoch [2/2], Step [1728/2400], Loss: 1.6986, Accuracy: 52.00%\n",
      "Epoch [2/2], Step [1752/2400], Loss: 2.0983, Accuracy: 28.00%\n",
      "Epoch [2/2], Step [1776/2400], Loss: 1.6936, Accuracy: 60.00%\n",
      "Epoch [2/2], Step [1800/2400], Loss: 1.5949, Accuracy: 56.00%\n",
      "Epoch [2/2], Step [1824/2400], Loss: 1.7681, Accuracy: 52.00%\n",
      "Epoch [2/2], Step [1848/2400], Loss: 1.9439, Accuracy: 44.00%\n",
      "Epoch [2/2], Step [1872/2400], Loss: 1.9366, Accuracy: 52.00%\n",
      "Epoch [2/2], Step [1896/2400], Loss: 2.0144, Accuracy: 40.00%\n",
      "Epoch [2/2], Step [1920/2400], Loss: 2.1418, Accuracy: 40.00%\n",
      "Epoch [2/2], Step [1944/2400], Loss: 1.9813, Accuracy: 40.00%\n",
      "Epoch [2/2], Step [1968/2400], Loss: 2.0067, Accuracy: 40.00%\n",
      "Epoch [2/2], Step [1992/2400], Loss: 1.4586, Accuracy: 64.00%\n",
      "Epoch [2/2], Step [2016/2400], Loss: 2.1341, Accuracy: 32.00%\n",
      "Epoch [2/2], Step [2040/2400], Loss: 1.7584, Accuracy: 52.00%\n",
      "Epoch [2/2], Step [2064/2400], Loss: 1.8544, Accuracy: 60.00%\n",
      "Epoch [2/2], Step [2088/2400], Loss: 2.0064, Accuracy: 36.00%\n",
      "Epoch [2/2], Step [2112/2400], Loss: 1.8855, Accuracy: 48.00%\n",
      "Epoch [2/2], Step [2136/2400], Loss: 1.9457, Accuracy: 44.00%\n",
      "Epoch [2/2], Step [2160/2400], Loss: 1.9765, Accuracy: 40.00%\n",
      "Epoch [2/2], Step [2184/2400], Loss: 1.7234, Accuracy: 56.00%\n",
      "Epoch [2/2], Step [2208/2400], Loss: 1.8040, Accuracy: 44.00%\n",
      "Epoch [2/2], Step [2232/2400], Loss: 2.0785, Accuracy: 40.00%\n",
      "Epoch [2/2], Step [2256/2400], Loss: 1.5280, Accuracy: 64.00%\n",
      "Epoch [2/2], Step [2280/2400], Loss: 2.4299, Accuracy: 24.00%\n",
      "Epoch [2/2], Step [2304/2400], Loss: 1.9355, Accuracy: 44.00%\n",
      "Epoch [2/2], Step [2328/2400], Loss: 2.0186, Accuracy: 48.00%\n",
      "Epoch [2/2], Step [2352/2400], Loss: 2.2340, Accuracy: 28.00%\n",
      "Epoch [2/2], Step [2376/2400], Loss: 1.9765, Accuracy: 44.00%\n",
      "Epoch [2/2], Step [2400/2400], Loss: 1.7391, Accuracy: 56.00%\n"
     ]
    }
   ],
   "source": [
    "# Train the model\n",
    "total_step2 = len(trainM_loader)\n",
    "loss_list2 = []\n",
    "acc_list2 = []\n",
    "Yacc2 = []\n",
    "Yloss2 = []\n",
    "for epoch in range(num_epochs):\n",
    "    for i, (imgs, lbls) in enumerate(trainM_loader):\n",
    "        # Run the forward pass\n",
    "        outputs = model2(imgs)\n",
    "        #print(outputs.shape)\n",
    "        loss = criterion2(outputs, lbls)\n",
    "        loss_list2.append(loss.item())\n",
    "\n",
    "        # Backprop and perform Adam optimisation\n",
    "        optimizer2.zero_grad()\n",
    "        loss.backward()\n",
    "        optimizer2.step()\n",
    "\n",
    "        # Track the accuracy\n",
    "        total = lbls.size(0)\n",
    "        _, predicted = torch.max(outputs.data, 1)\n",
    "        correct = (predicted == lbls).sum().item()\n",
    "        acc_list2.append(correct / total)\n",
    "\n",
    "        if (i + 1) % int(printNow) == 0:\n",
    "            Yacc2.append((correct / total) * 100)\n",
    "            Yloss2.append(loss.item())\n",
    "            print('Epoch [{}/{}], Step [{}/{}], Loss: {:.4f}, Accuracy: {:.2f}%'\n",
    "                  .format(epoch + 1, num_epochs, i + 1, total_step, loss.item(),\n",
    "                          (correct / total) * 100))"
   ]
  },
  {
   "cell_type": "code",
   "execution_count": 992,
   "metadata": {},
   "outputs": [
    {
     "name": "stdout",
     "output_type": "stream",
     "text": [
      "Test Accuracy of the model: 95.74000000000001 %\n"
     ]
    }
   ],
   "source": [
    "# Test the model\n",
    "model2.eval()\n",
    "with torch.no_grad():\n",
    "    correct = 0\n",
    "    total = 0\n",
    "    for images, labels in testM_loader:\n",
    "        outputs = model2(images)\n",
    "        _, predicted = torch.max(outputs.data, 1)\n",
    "        total += labels.size(0)\n",
    "        correct += (predicted == labels).sum().item()\n",
    "\n",
    "    print('Test Accuracy of the model: {} %'.format((correct / total) * 100))\n"
   ]
  },
  {
   "cell_type": "code",
   "execution_count": 993,
   "metadata": {},
   "outputs": [
    {
     "data": {
      "image/png": "[encoded data removed]",
      "text/plain": [
       "<Figure size 432x288 with 1 Axes>"
      ]
     },
     "metadata": {
      "needs_background": "light"
     },
     "output_type": "display_data"
    },
    {
     "data": {
      "image/png": "[encoded data removed]",
      "text/plain": [
       "<Figure size 432x288 with 1 Axes>"
      ]
     },
     "metadata": {
      "needs_background": "light"
     },
     "output_type": "display_data"
    }
   ],
   "source": [
    "\n",
    "plt.plot(Yloss2, label=\"loss\") \n",
    "plt.legend(bbox_to_anchor=(1.05, 1), loc='upper left', borderaxespad=0.) \n",
    "plt.xlabel('epochs')\n",
    "plt.ylabel('loss') \n",
    "plt.title('Loss Visualization During training') \n",
    "plt.show() \n",
    "\n",
    "\n",
    "plt.plot(Yacc2, label=\"accuracy\") \n",
    "plt.legend(bbox_to_anchor=(1.05, 1), loc='upper left', borderaxespad=0.) \n",
    "plt.xlabel('epochs') \n",
    "plt.ylabel('accuracy') \n",
    "plt.title('Accuracy Visualization During training') \n",
    "\n",
    "plt.show()"
   ]
  },
  {
   "cell_type": "code",
   "execution_count": 994,
   "metadata": {},
   "outputs": [
    {
     "name": "stdout",
     "output_type": "stream",
     "text": [
      "Expected Label: 9 Correct Label: 9\n"
     ]
    },
    {
     "data": {
      "image/png": "[encoded data removed]",
      "text/plain": [
       "<Figure size 432x288 with 1 Axes>"
      ]
     },
     "metadata": {
      "needs_background": "light"
     },
     "output_type": "display_data"
    },
    {
     "name": "stdout",
     "output_type": "stream",
     "text": [
      "Expected Label: 9 Correct Label: 9\n"
     ]
    },
    {
     "data": {
      "image/png": "[encoded data removed]",
      "text/plain": [
       "<Figure size 432x288 with 1 Axes>"
      ]
     },
     "metadata": {
      "needs_background": "light"
     },
     "output_type": "display_data"
    },
    {
     "name": "stdout",
     "output_type": "stream",
     "text": [
      "Expected Label: 7 Correct Label: 7\n"
     ]
    },
    {
     "data": {
      "image/png": "[encoded data removed]",
      "text/plain": [
       "<Figure size 432x288 with 1 Axes>"
      ]
     },
     "metadata": {
      "needs_background": "light"
     },
     "output_type": "display_data"
    },
    {
     "name": "stdout",
     "output_type": "stream",
     "text": [
      "Expected Label: 2 Correct Label: 2\n"
     ]
    },
    {
     "data": {
      "image/png": "[encoded data removed]",
      "text/plain": [
       "<Figure size 432x288 with 1 Axes>"
      ]
     },
     "metadata": {
      "needs_background": "light"
     },
     "output_type": "display_data"
    },
    {
     "name": "stdout",
     "output_type": "stream",
     "text": [
      "Expected Label: 1 Correct Label: 1\n"
     ]
    },
    {
     "data": {
      "image/png": "[encoded data removed]",
      "text/plain": [
       "<Figure size 432x288 with 1 Axes>"
      ]
     },
     "metadata": {
      "needs_background": "light"
     },
     "output_type": "display_data"
    },
    {
     "name": "stdout",
     "output_type": "stream",
     "text": [
      "Expected Label: 2 Correct Label: 2\n"
     ]
    },
    {
     "data": {
      "image/png": "[encoded data removed]",
      "text/plain": [
       "<Figure size 432x288 with 1 Axes>"
      ]
     },
     "metadata": {
      "needs_background": "light"
     },
     "output_type": "display_data"
    },
    {
     "name": "stdout",
     "output_type": "stream",
     "text": [
      "Expected Label: 3 Correct Label: 3\n"
     ]
    },
    {
     "data": {
      "image/png": "[encoded data removed]",
      "text/plain": [
       "<Figure size 432x288 with 1 Axes>"
      ]
     },
     "metadata": {
      "needs_background": "light"
     },
     "output_type": "display_data"
    },
    {
     "name": "stdout",
     "output_type": "stream",
     "text": [
      "Expected Label: 7 Correct Label: 7\n"
     ]
    },
    {
     "data": {
      "image/png": "[encoded data removed]",
      "text/plain": [
       "<Figure size 432x288 with 1 Axes>"
      ]
     },
     "metadata": {
      "needs_background": "light"
     },
     "output_type": "display_data"
    },
    {
     "name": "stdout",
     "output_type": "stream",
     "text": [
      "Expected Label: 7 Correct Label: 7\n"
     ]
    },
    {
     "data": {
      "image/png": "[encoded data removed]",
      "text/plain": [
       "<Figure size 432x288 with 1 Axes>"
      ]
     },
     "metadata": {
      "needs_background": "light"
     },
     "output_type": "display_data"
    },
    {
     "name": "stdout",
     "output_type": "stream",
     "text": [
      "Expected Label: 4 Correct Label: 4\n"
     ]
    },
    {
     "data": {
      "image/png": "[encoded data removed]",
      "text/plain": [
       "<Figure size 432x288 with 1 Axes>"
      ]
     },
     "metadata": {
      "needs_background": "light"
     },
     "output_type": "display_data"
    }
   ],
   "source": [
    "model2.eval()\n",
    "for images, labels in testM_loader:\n",
    "    outputs = model(images)\n",
    "    _, predicted = torch.max(outputs.data, 1)\n",
    "\n",
    "\n",
    "for i in range(10):\n",
    "    print(f'Expected Label: {predicted[i]} Correct Label: {labels[i]}')\n",
    "    showImage(images[i])"
   ]
  },
  {
   "cell_type": "code",
   "execution_count": null,
   "metadata": {},
   "outputs": [],
   "source": []
  },
  {
   "cell_type": "code",
   "execution_count": null,
   "metadata": {},
   "outputs": [],
   "source": []
  },
  {
   "cell_type": "code",
   "execution_count": null,
   "metadata": {},
   "outputs": [],
   "source": []
  },
  {
   "cell_type": "code",
   "execution_count": 995,
   "metadata": {},
   "outputs": [],
   "source": [
    "#Xtrm, Ytrm = readData(mix=True)\n",
    "#Xtsm, Ytsm = readData(train=False, mix=True)\n",
    "\n",
    "Xtrm, Ytrm = readData(mix=True, cData=True)\n",
    "Xtsm, Ytsm = readData(train=False, mix=True, cData=True)\n"
   ]
  },
  {
   "cell_type": "code",
   "execution_count": 996,
   "metadata": {},
   "outputs": [
    {
     "name": "stdout",
     "output_type": "stream",
     "text": [
      "10000\n",
      "torch.Size([10000, 1, 28, 28])\n",
      "32395\n",
      "torch.Size([32395, 1, 28, 28])\n"
     ]
    }
   ],
   "source": [
    "print(len(Ytsm))\n",
    "print(Xtsm.shape)\n",
    "print(len(Ytrm))\n",
    "print(Xtrm.shape)"
   ]
  },
  {
   "cell_type": "code",
   "execution_count": 997,
   "metadata": {},
   "outputs": [
    {
     "name": "stdout",
     "output_type": "stream",
     "text": [
      "0\n"
     ]
    },
    {
     "data": {
      "image/png": "[encoded data removed]",
      "text/plain": [
       "<Figure size 432x288 with 1 Axes>"
      ]
     },
     "metadata": {
      "needs_background": "light"
     },
     "output_type": "display_data"
    },
    {
     "name": "stdout",
     "output_type": "stream",
     "text": [
      "0\n"
     ]
    },
    {
     "data": {
      "image/png": "[encoded data removed]",
      "text/plain": [
       "<Figure size 432x288 with 1 Axes>"
      ]
     },
     "metadata": {
      "needs_background": "light"
     },
     "output_type": "display_data"
    },
    {
     "name": "stdout",
     "output_type": "stream",
     "text": [
      "0\n"
     ]
    },
    {
     "data": {
      "image/png": "[encoded data removed]",
      "text/plain": [
       "<Figure size 432x288 with 1 Axes>"
      ]
     },
     "metadata": {
      "needs_background": "light"
     },
     "output_type": "display_data"
    },
    {
     "name": "stdout",
     "output_type": "stream",
     "text": [
      "0\n"
     ]
    },
    {
     "data": {
      "image/png": "[encoded data removed]",
      "text/plain": [
       "<Figure size 432x288 with 1 Axes>"
      ]
     },
     "metadata": {
      "needs_background": "light"
     },
     "output_type": "display_data"
    },
    {
     "name": "stdout",
     "output_type": "stream",
     "text": [
      "0\n"
     ]
    },
    {
     "data": {
      "image/png": "[encoded data removed]",
      "text/plain": [
       "<Figure size 432x288 with 1 Axes>"
      ]
     },
     "metadata": {
      "needs_background": "light"
     },
     "output_type": "display_data"
    },
    {
     "name": "stdout",
     "output_type": "stream",
     "text": [
      "0\n"
     ]
    },
    {
     "data": {
      "image/png": "[encoded data removed]",
      "text/plain": [
       "<Figure size 432x288 with 1 Axes>"
      ]
     },
     "metadata": {
      "needs_background": "light"
     },
     "output_type": "display_data"
    },
    {
     "name": "stdout",
     "output_type": "stream",
     "text": [
      "0\n"
     ]
    },
    {
     "data": {
      "image/png": "[encoded data removed]",
      "text/plain": [
       "<Figure size 432x288 with 1 Axes>"
      ]
     },
     "metadata": {
      "needs_background": "light"
     },
     "output_type": "display_data"
    },
    {
     "name": "stdout",
     "output_type": "stream",
     "text": [
      "0\n"
     ]
    },
    {
     "data": {
      "image/png": "[encoded data removed]",
      "text/plain": [
       "<Figure size 432x288 with 1 Axes>"
      ]
     },
     "metadata": {
      "needs_background": "light"
     },
     "output_type": "display_data"
    },
    {
     "name": "stdout",
     "output_type": "stream",
     "text": [
      "0\n"
     ]
    },
    {
     "data": {
      "image/png": "[encoded data removed]",
      "text/plain": [
       "<Figure size 432x288 with 1 Axes>"
      ]
     },
     "metadata": {
      "needs_background": "light"
     },
     "output_type": "display_data"
    },
    {
     "name": "stdout",
     "output_type": "stream",
     "text": [
      "0\n"
     ]
    },
    {
     "data": {
      "image/png": "[encoded data removed]",
      "text/plain": [
       "<Figure size 432x288 with 1 Axes>"
      ]
     },
     "metadata": {
      "needs_background": "light"
     },
     "output_type": "display_data"
    },
    {
     "name": "stdout",
     "output_type": "stream",
     "text": [
      "0\n"
     ]
    },
    {
     "data": {
      "image/png": "[encoded data removed]",
      "text/plain": [
       "<Figure size 432x288 with 1 Axes>"
      ]
     },
     "metadata": {
      "needs_background": "light"
     },
     "output_type": "display_data"
    },
    {
     "name": "stdout",
     "output_type": "stream",
     "text": [
      "0\n"
     ]
    },
    {
     "data": {
      "image/png": "[encoded data removed]",
      "text/plain": [
       "<Figure size 432x288 with 1 Axes>"
      ]
     },
     "metadata": {
      "needs_background": "light"
     },
     "output_type": "display_data"
    },
    {
     "name": "stdout",
     "output_type": "stream",
     "text": [
      "0\n"
     ]
    },
    {
     "data": {
      "image/png": "[encoded data removed]",
      "text/plain": [
       "<Figure size 432x288 with 1 Axes>"
      ]
     },
     "metadata": {
      "needs_background": "light"
     },
     "output_type": "display_data"
    },
    {
     "name": "stdout",
     "output_type": "stream",
     "text": [
      "0\n"
     ]
    },
    {
     "data": {
      "image/png": "[encoded data removed]",
      "text/plain": [
       "<Figure size 432x288 with 1 Axes>"
      ]
     },
     "metadata": {
      "needs_background": "light"
     },
     "output_type": "display_data"
    },
    {
     "name": "stdout",
     "output_type": "stream",
     "text": [
      "0\n"
     ]
    },
    {
     "data": {
      "image/png": "[encoded data removed]",
      "text/plain": [
       "<Figure size 432x288 with 1 Axes>"
      ]
     },
     "metadata": {
      "needs_background": "light"
     },
     "output_type": "display_data"
    },
    {
     "name": "stdout",
     "output_type": "stream",
     "text": [
      "0\n"
     ]
    },
    {
     "data": {
      "image/png": "[encoded data removed]",
      "text/plain": [
       "<Figure size 432x288 with 1 Axes>"
      ]
     },
     "metadata": {
      "needs_background": "light"
     },
     "output_type": "display_data"
    },
    {
     "name": "stdout",
     "output_type": "stream",
     "text": [
      "0\n"
     ]
    },
    {
     "ename": "KeyboardInterrupt",
     "evalue": "",
     "output_type": "error",
     "traceback": [
      "\u001b[1;31m---------------------------------------------------------------------------\u001b[0m",
      "\u001b[1;31mKeyboardInterrupt\u001b[0m                         Traceback (most recent call last)",
      "\u001b[1;32m<ipython-input-997-3f68391dcdc5>\u001b[0m in \u001b[0;36m<module>\u001b[1;34m\u001b[0m\n\u001b[0;32m      1\u001b[0m \u001b[1;32mfor\u001b[0m \u001b[0mi\u001b[0m \u001b[1;32min\u001b[0m \u001b[0mrange\u001b[0m\u001b[1;33m(\u001b[0m\u001b[1;36m708\u001b[0m\u001b[1;33m)\u001b[0m\u001b[1;33m:\u001b[0m\u001b[1;33m\u001b[0m\u001b[1;33m\u001b[0m\u001b[0m\n\u001b[0;32m      2\u001b[0m     \u001b[0mprint\u001b[0m\u001b[1;33m(\u001b[0m\u001b[0mYtrm\u001b[0m\u001b[1;33m[\u001b[0m\u001b[0mi\u001b[0m\u001b[1;33m]\u001b[0m\u001b[1;33m)\u001b[0m\u001b[1;33m\u001b[0m\u001b[1;33m\u001b[0m\u001b[0m\n\u001b[1;32m----> 3\u001b[1;33m     \u001b[0mshowImage\u001b[0m\u001b[1;33m(\u001b[0m\u001b[0mXtrm\u001b[0m\u001b[1;33m[\u001b[0m\u001b[0mi\u001b[0m\u001b[1;33m]\u001b[0m\u001b[1;33m)\u001b[0m\u001b[1;33m\u001b[0m\u001b[1;33m\u001b[0m\u001b[0m\n\u001b[0m",
      "\u001b[1;32m<ipython-input-961-b1bb2643559c>\u001b[0m in \u001b[0;36mshowImage\u001b[1;34m(image)\u001b[0m\n\u001b[0;32m      5\u001b[0m     \u001b[0mimage\u001b[0m \u001b[1;33m=\u001b[0m \u001b[0mnp\u001b[0m\u001b[1;33m.\u001b[0m\u001b[0msqueeze\u001b[0m\u001b[1;33m(\u001b[0m\u001b[0mimage\u001b[0m\u001b[1;33m,\u001b[0m \u001b[0maxis\u001b[0m\u001b[1;33m=\u001b[0m\u001b[1;36m2\u001b[0m\u001b[1;33m)\u001b[0m\u001b[1;33m\u001b[0m\u001b[1;33m\u001b[0m\u001b[0m\n\u001b[0;32m      6\u001b[0m     \u001b[0mplt\u001b[0m\u001b[1;33m.\u001b[0m\u001b[0mimshow\u001b[0m\u001b[1;33m(\u001b[0m\u001b[0mimage\u001b[0m\u001b[1;33m)\u001b[0m\u001b[1;33m\u001b[0m\u001b[1;33m\u001b[0m\u001b[0m\n\u001b[1;32m----> 7\u001b[1;33m     \u001b[0mplt\u001b[0m\u001b[1;33m.\u001b[0m\u001b[0mshow\u001b[0m\u001b[1;33m(\u001b[0m\u001b[1;33m)\u001b[0m\u001b[1;33m\u001b[0m\u001b[1;33m\u001b[0m\u001b[0m\n\u001b[0m",
      "\u001b[1;32m~\\Anaconda3\\lib\\site-packages\\matplotlib\\pyplot.py\u001b[0m in \u001b[0;36mshow\u001b[1;34m(*args, **kw)\u001b[0m\n\u001b[0;32m    252\u001b[0m     \"\"\"\n\u001b[0;32m    253\u001b[0m     \u001b[1;32mglobal\u001b[0m \u001b[0m_show\u001b[0m\u001b[1;33m\u001b[0m\u001b[1;33m\u001b[0m\u001b[0m\n\u001b[1;32m--> 254\u001b[1;33m     \u001b[1;32mreturn\u001b[0m \u001b[0m_show\u001b[0m\u001b[1;33m(\u001b[0m\u001b[1;33m*\u001b[0m\u001b[0margs\u001b[0m\u001b[1;33m,\u001b[0m \u001b[1;33m**\u001b[0m\u001b[0mkw\u001b[0m\u001b[1;33m)\u001b[0m\u001b[1;33m\u001b[0m\u001b[1;33m\u001b[0m\u001b[0m\n\u001b[0m\u001b[0;32m    255\u001b[0m \u001b[1;33m\u001b[0m\u001b[0m\n\u001b[0;32m    256\u001b[0m \u001b[1;33m\u001b[0m\u001b[0m\n",
      "\u001b[1;32m~\\Anaconda3\\lib\\site-packages\\ipykernel\\pylab\\backend_inline.py\u001b[0m in \u001b[0;36mshow\u001b[1;34m(close, block)\u001b[0m\n\u001b[0;32m     37\u001b[0m             display(\n\u001b[0;32m     38\u001b[0m                 \u001b[0mfigure_manager\u001b[0m\u001b[1;33m.\u001b[0m\u001b[0mcanvas\u001b[0m\u001b[1;33m.\u001b[0m\u001b[0mfigure\u001b[0m\u001b[1;33m,\u001b[0m\u001b[1;33m\u001b[0m\u001b[1;33m\u001b[0m\u001b[0m\n\u001b[1;32m---> 39\u001b[1;33m                 \u001b[0mmetadata\u001b[0m\u001b[1;33m=\u001b[0m\u001b[0m_fetch_figure_metadata\u001b[0m\u001b[1;33m(\u001b[0m\u001b[0mfigure_manager\u001b[0m\u001b[1;33m.\u001b[0m\u001b[0mcanvas\u001b[0m\u001b[1;33m.\u001b[0m\u001b[0mfigure\u001b[0m\u001b[1;33m)\u001b[0m\u001b[1;33m\u001b[0m\u001b[1;33m\u001b[0m\u001b[0m\n\u001b[0m\u001b[0;32m     40\u001b[0m             )\n\u001b[0;32m     41\u001b[0m     \u001b[1;32mfinally\u001b[0m\u001b[1;33m:\u001b[0m\u001b[1;33m\u001b[0m\u001b[1;33m\u001b[0m\u001b[0m\n",
      "\u001b[1;32m~\\Anaconda3\\lib\\site-packages\\IPython\\core\\display.py\u001b[0m in \u001b[0;36mdisplay\u001b[1;34m(include, exclude, metadata, transient, display_id, *objs, **kwargs)\u001b[0m\n\u001b[0;32m    302\u001b[0m             \u001b[0mpublish_display_data\u001b[0m\u001b[1;33m(\u001b[0m\u001b[0mdata\u001b[0m\u001b[1;33m=\u001b[0m\u001b[0mobj\u001b[0m\u001b[1;33m,\u001b[0m \u001b[0mmetadata\u001b[0m\u001b[1;33m=\u001b[0m\u001b[0mmetadata\u001b[0m\u001b[1;33m,\u001b[0m \u001b[1;33m**\u001b[0m\u001b[0mkwargs\u001b[0m\u001b[1;33m)\u001b[0m\u001b[1;33m\u001b[0m\u001b[1;33m\u001b[0m\u001b[0m\n\u001b[0;32m    303\u001b[0m         \u001b[1;32melse\u001b[0m\u001b[1;33m:\u001b[0m\u001b[1;33m\u001b[0m\u001b[1;33m\u001b[0m\u001b[0m\n\u001b[1;32m--> 304\u001b[1;33m             \u001b[0mformat_dict\u001b[0m\u001b[1;33m,\u001b[0m \u001b[0mmd_dict\u001b[0m \u001b[1;33m=\u001b[0m \u001b[0mformat\u001b[0m\u001b[1;33m(\u001b[0m\u001b[0mobj\u001b[0m\u001b[1;33m,\u001b[0m \u001b[0minclude\u001b[0m\u001b[1;33m=\u001b[0m\u001b[0minclude\u001b[0m\u001b[1;33m,\u001b[0m \u001b[0mexclude\u001b[0m\u001b[1;33m=\u001b[0m\u001b[0mexclude\u001b[0m\u001b[1;33m)\u001b[0m\u001b[1;33m\u001b[0m\u001b[1;33m\u001b[0m\u001b[0m\n\u001b[0m\u001b[0;32m    305\u001b[0m             \u001b[1;32mif\u001b[0m \u001b[1;32mnot\u001b[0m \u001b[0mformat_dict\u001b[0m\u001b[1;33m:\u001b[0m\u001b[1;33m\u001b[0m\u001b[1;33m\u001b[0m\u001b[0m\n\u001b[0;32m    306\u001b[0m                 \u001b[1;31m# nothing to display (e.g. _ipython_display_ took over)\u001b[0m\u001b[1;33m\u001b[0m\u001b[1;33m\u001b[0m\u001b[1;33m\u001b[0m\u001b[0m\n",
      "\u001b[1;32m~\\Anaconda3\\lib\\site-packages\\IPython\\core\\formatters.py\u001b[0m in \u001b[0;36mformat\u001b[1;34m(self, obj, include, exclude)\u001b[0m\n\u001b[0;32m    178\u001b[0m             \u001b[0mmd\u001b[0m \u001b[1;33m=\u001b[0m \u001b[1;32mNone\u001b[0m\u001b[1;33m\u001b[0m\u001b[1;33m\u001b[0m\u001b[0m\n\u001b[0;32m    179\u001b[0m             \u001b[1;32mtry\u001b[0m\u001b[1;33m:\u001b[0m\u001b[1;33m\u001b[0m\u001b[1;33m\u001b[0m\u001b[0m\n\u001b[1;32m--> 180\u001b[1;33m                 \u001b[0mdata\u001b[0m \u001b[1;33m=\u001b[0m \u001b[0mformatter\u001b[0m\u001b[1;33m(\u001b[0m\u001b[0mobj\u001b[0m\u001b[1;33m)\u001b[0m\u001b[1;33m\u001b[0m\u001b[1;33m\u001b[0m\u001b[0m\n\u001b[0m\u001b[0;32m    181\u001b[0m             \u001b[1;32mexcept\u001b[0m\u001b[1;33m:\u001b[0m\u001b[1;33m\u001b[0m\u001b[1;33m\u001b[0m\u001b[0m\n\u001b[0;32m    182\u001b[0m                 \u001b[1;31m# FIXME: log the exception\u001b[0m\u001b[1;33m\u001b[0m\u001b[1;33m\u001b[0m\u001b[1;33m\u001b[0m\u001b[0m\n",
      "\u001b[1;32m<C:\\Users\\Safofoh\\Anaconda3\\lib\\site-packages\\decorator.py:decorator-gen-9>\u001b[0m in \u001b[0;36m__call__\u001b[1;34m(self, obj)\u001b[0m\n",
      "\u001b[1;32m~\\Anaconda3\\lib\\site-packages\\IPython\\core\\formatters.py\u001b[0m in \u001b[0;36mcatch_format_error\u001b[1;34m(method, self, *args, **kwargs)\u001b[0m\n\u001b[0;32m    222\u001b[0m     \u001b[1;34m\"\"\"show traceback on failed format call\"\"\"\u001b[0m\u001b[1;33m\u001b[0m\u001b[1;33m\u001b[0m\u001b[0m\n\u001b[0;32m    223\u001b[0m     \u001b[1;32mtry\u001b[0m\u001b[1;33m:\u001b[0m\u001b[1;33m\u001b[0m\u001b[1;33m\u001b[0m\u001b[0m\n\u001b[1;32m--> 224\u001b[1;33m         \u001b[0mr\u001b[0m \u001b[1;33m=\u001b[0m \u001b[0mmethod\u001b[0m\u001b[1;33m(\u001b[0m\u001b[0mself\u001b[0m\u001b[1;33m,\u001b[0m \u001b[1;33m*\u001b[0m\u001b[0margs\u001b[0m\u001b[1;33m,\u001b[0m \u001b[1;33m**\u001b[0m\u001b[0mkwargs\u001b[0m\u001b[1;33m)\u001b[0m\u001b[1;33m\u001b[0m\u001b[1;33m\u001b[0m\u001b[0m\n\u001b[0m\u001b[0;32m    225\u001b[0m     \u001b[1;32mexcept\u001b[0m \u001b[0mNotImplementedError\u001b[0m\u001b[1;33m:\u001b[0m\u001b[1;33m\u001b[0m\u001b[1;33m\u001b[0m\u001b[0m\n\u001b[0;32m    226\u001b[0m         \u001b[1;31m# don't warn on NotImplementedErrors\u001b[0m\u001b[1;33m\u001b[0m\u001b[1;33m\u001b[0m\u001b[1;33m\u001b[0m\u001b[0m\n",
      "\u001b[1;32m~\\Anaconda3\\lib\\site-packages\\IPython\\core\\formatters.py\u001b[0m in \u001b[0;36m__call__\u001b[1;34m(self, obj)\u001b[0m\n\u001b[0;32m    339\u001b[0m                 \u001b[1;32mpass\u001b[0m\u001b[1;33m\u001b[0m\u001b[1;33m\u001b[0m\u001b[0m\n\u001b[0;32m    340\u001b[0m             \u001b[1;32melse\u001b[0m\u001b[1;33m:\u001b[0m\u001b[1;33m\u001b[0m\u001b[1;33m\u001b[0m\u001b[0m\n\u001b[1;32m--> 341\u001b[1;33m                 \u001b[1;32mreturn\u001b[0m \u001b[0mprinter\u001b[0m\u001b[1;33m(\u001b[0m\u001b[0mobj\u001b[0m\u001b[1;33m)\u001b[0m\u001b[1;33m\u001b[0m\u001b[1;33m\u001b[0m\u001b[0m\n\u001b[0m\u001b[0;32m    342\u001b[0m             \u001b[1;31m# Finally look for special method names\u001b[0m\u001b[1;33m\u001b[0m\u001b[1;33m\u001b[0m\u001b[1;33m\u001b[0m\u001b[0m\n\u001b[0;32m    343\u001b[0m             \u001b[0mmethod\u001b[0m \u001b[1;33m=\u001b[0m \u001b[0mget_real_method\u001b[0m\u001b[1;33m(\u001b[0m\u001b[0mobj\u001b[0m\u001b[1;33m,\u001b[0m \u001b[0mself\u001b[0m\u001b[1;33m.\u001b[0m\u001b[0mprint_method\u001b[0m\u001b[1;33m)\u001b[0m\u001b[1;33m\u001b[0m\u001b[1;33m\u001b[0m\u001b[0m\n",
      "\u001b[1;32m~\\Anaconda3\\lib\\site-packages\\IPython\\core\\pylabtools.py\u001b[0m in \u001b[0;36m<lambda>\u001b[1;34m(fig)\u001b[0m\n\u001b[0;32m    242\u001b[0m \u001b[1;33m\u001b[0m\u001b[0m\n\u001b[0;32m    243\u001b[0m     \u001b[1;32mif\u001b[0m \u001b[1;34m'png'\u001b[0m \u001b[1;32min\u001b[0m \u001b[0mformats\u001b[0m\u001b[1;33m:\u001b[0m\u001b[1;33m\u001b[0m\u001b[1;33m\u001b[0m\u001b[0m\n\u001b[1;32m--> 244\u001b[1;33m         \u001b[0mpng_formatter\u001b[0m\u001b[1;33m.\u001b[0m\u001b[0mfor_type\u001b[0m\u001b[1;33m(\u001b[0m\u001b[0mFigure\u001b[0m\u001b[1;33m,\u001b[0m \u001b[1;32mlambda\u001b[0m \u001b[0mfig\u001b[0m\u001b[1;33m:\u001b[0m \u001b[0mprint_figure\u001b[0m\u001b[1;33m(\u001b[0m\u001b[0mfig\u001b[0m\u001b[1;33m,\u001b[0m \u001b[1;34m'png'\u001b[0m\u001b[1;33m,\u001b[0m \u001b[1;33m**\u001b[0m\u001b[0mkwargs\u001b[0m\u001b[1;33m)\u001b[0m\u001b[1;33m)\u001b[0m\u001b[1;33m\u001b[0m\u001b[1;33m\u001b[0m\u001b[0m\n\u001b[0m\u001b[0;32m    245\u001b[0m     \u001b[1;32mif\u001b[0m \u001b[1;34m'retina'\u001b[0m \u001b[1;32min\u001b[0m \u001b[0mformats\u001b[0m \u001b[1;32mor\u001b[0m \u001b[1;34m'png2x'\u001b[0m \u001b[1;32min\u001b[0m \u001b[0mformats\u001b[0m\u001b[1;33m:\u001b[0m\u001b[1;33m\u001b[0m\u001b[1;33m\u001b[0m\u001b[0m\n\u001b[0;32m    246\u001b[0m         \u001b[0mpng_formatter\u001b[0m\u001b[1;33m.\u001b[0m\u001b[0mfor_type\u001b[0m\u001b[1;33m(\u001b[0m\u001b[0mFigure\u001b[0m\u001b[1;33m,\u001b[0m \u001b[1;32mlambda\u001b[0m \u001b[0mfig\u001b[0m\u001b[1;33m:\u001b[0m \u001b[0mretina_figure\u001b[0m\u001b[1;33m(\u001b[0m\u001b[0mfig\u001b[0m\u001b[1;33m,\u001b[0m \u001b[1;33m**\u001b[0m\u001b[0mkwargs\u001b[0m\u001b[1;33m)\u001b[0m\u001b[1;33m)\u001b[0m\u001b[1;33m\u001b[0m\u001b[1;33m\u001b[0m\u001b[0m\n",
      "\u001b[1;32m~\\Anaconda3\\lib\\site-packages\\IPython\\core\\pylabtools.py\u001b[0m in \u001b[0;36mprint_figure\u001b[1;34m(fig, fmt, bbox_inches, **kwargs)\u001b[0m\n\u001b[0;32m    126\u001b[0m \u001b[1;33m\u001b[0m\u001b[0m\n\u001b[0;32m    127\u001b[0m     \u001b[0mbytes_io\u001b[0m \u001b[1;33m=\u001b[0m \u001b[0mBytesIO\u001b[0m\u001b[1;33m(\u001b[0m\u001b[1;33m)\u001b[0m\u001b[1;33m\u001b[0m\u001b[1;33m\u001b[0m\u001b[0m\n\u001b[1;32m--> 128\u001b[1;33m     \u001b[0mfig\u001b[0m\u001b[1;33m.\u001b[0m\u001b[0mcanvas\u001b[0m\u001b[1;33m.\u001b[0m\u001b[0mprint_figure\u001b[0m\u001b[1;33m(\u001b[0m\u001b[0mbytes_io\u001b[0m\u001b[1;33m,\u001b[0m \u001b[1;33m**\u001b[0m\u001b[0mkw\u001b[0m\u001b[1;33m)\u001b[0m\u001b[1;33m\u001b[0m\u001b[1;33m\u001b[0m\u001b[0m\n\u001b[0m\u001b[0;32m    129\u001b[0m     \u001b[0mdata\u001b[0m \u001b[1;33m=\u001b[0m \u001b[0mbytes_io\u001b[0m\u001b[1;33m.\u001b[0m\u001b[0mgetvalue\u001b[0m\u001b[1;33m(\u001b[0m\u001b[1;33m)\u001b[0m\u001b[1;33m\u001b[0m\u001b[1;33m\u001b[0m\u001b[0m\n\u001b[0;32m    130\u001b[0m     \u001b[1;32mif\u001b[0m \u001b[0mfmt\u001b[0m \u001b[1;33m==\u001b[0m \u001b[1;34m'svg'\u001b[0m\u001b[1;33m:\u001b[0m\u001b[1;33m\u001b[0m\u001b[1;33m\u001b[0m\u001b[0m\n",
      "\u001b[1;32m~\\Anaconda3\\lib\\site-packages\\matplotlib\\backend_bases.py\u001b[0m in \u001b[0;36mprint_figure\u001b[1;34m(self, filename, dpi, facecolor, edgecolor, orientation, format, bbox_inches, **kwargs)\u001b[0m\n\u001b[0;32m   2047\u001b[0m                         \u001b[0morientation\u001b[0m\u001b[1;33m=\u001b[0m\u001b[0morientation\u001b[0m\u001b[1;33m,\u001b[0m\u001b[1;33m\u001b[0m\u001b[1;33m\u001b[0m\u001b[0m\n\u001b[0;32m   2048\u001b[0m                         \u001b[0mdryrun\u001b[0m\u001b[1;33m=\u001b[0m\u001b[1;32mTrue\u001b[0m\u001b[1;33m,\u001b[0m\u001b[1;33m\u001b[0m\u001b[1;33m\u001b[0m\u001b[0m\n\u001b[1;32m-> 2049\u001b[1;33m                         **kwargs)\n\u001b[0m\u001b[0;32m   2050\u001b[0m                     \u001b[0mrenderer\u001b[0m \u001b[1;33m=\u001b[0m \u001b[0mself\u001b[0m\u001b[1;33m.\u001b[0m\u001b[0mfigure\u001b[0m\u001b[1;33m.\u001b[0m\u001b[0m_cachedRenderer\u001b[0m\u001b[1;33m\u001b[0m\u001b[1;33m\u001b[0m\u001b[0m\n\u001b[0;32m   2051\u001b[0m                     \u001b[0mbbox_artists\u001b[0m \u001b[1;33m=\u001b[0m \u001b[0mkwargs\u001b[0m\u001b[1;33m.\u001b[0m\u001b[0mpop\u001b[0m\u001b[1;33m(\u001b[0m\u001b[1;34m\"bbox_extra_artists\"\u001b[0m\u001b[1;33m,\u001b[0m \u001b[1;32mNone\u001b[0m\u001b[1;33m)\u001b[0m\u001b[1;33m\u001b[0m\u001b[1;33m\u001b[0m\u001b[0m\n",
      "\u001b[1;32m~\\Anaconda3\\lib\\site-packages\\matplotlib\\backends\\backend_agg.py\u001b[0m in \u001b[0;36mprint_png\u001b[1;34m(self, filename_or_obj, *args, **kwargs)\u001b[0m\n\u001b[0;32m    508\u001b[0m \u001b[1;33m\u001b[0m\u001b[0m\n\u001b[0;32m    509\u001b[0m         \"\"\"\n\u001b[1;32m--> 510\u001b[1;33m         \u001b[0mFigureCanvasAgg\u001b[0m\u001b[1;33m.\u001b[0m\u001b[0mdraw\u001b[0m\u001b[1;33m(\u001b[0m\u001b[0mself\u001b[0m\u001b[1;33m)\u001b[0m\u001b[1;33m\u001b[0m\u001b[1;33m\u001b[0m\u001b[0m\n\u001b[0m\u001b[0;32m    511\u001b[0m         \u001b[0mrenderer\u001b[0m \u001b[1;33m=\u001b[0m \u001b[0mself\u001b[0m\u001b[1;33m.\u001b[0m\u001b[0mget_renderer\u001b[0m\u001b[1;33m(\u001b[0m\u001b[1;33m)\u001b[0m\u001b[1;33m\u001b[0m\u001b[1;33m\u001b[0m\u001b[0m\n\u001b[0;32m    512\u001b[0m \u001b[1;33m\u001b[0m\u001b[0m\n",
      "\u001b[1;32m~\\Anaconda3\\lib\\site-packages\\matplotlib\\backends\\backend_agg.py\u001b[0m in \u001b[0;36mdraw\u001b[1;34m(self)\u001b[0m\n\u001b[0;32m    400\u001b[0m         \u001b[0mtoolbar\u001b[0m \u001b[1;33m=\u001b[0m \u001b[0mself\u001b[0m\u001b[1;33m.\u001b[0m\u001b[0mtoolbar\u001b[0m\u001b[1;33m\u001b[0m\u001b[1;33m\u001b[0m\u001b[0m\n\u001b[0;32m    401\u001b[0m         \u001b[1;32mtry\u001b[0m\u001b[1;33m:\u001b[0m\u001b[1;33m\u001b[0m\u001b[1;33m\u001b[0m\u001b[0m\n\u001b[1;32m--> 402\u001b[1;33m             \u001b[0mself\u001b[0m\u001b[1;33m.\u001b[0m\u001b[0mfigure\u001b[0m\u001b[1;33m.\u001b[0m\u001b[0mdraw\u001b[0m\u001b[1;33m(\u001b[0m\u001b[0mself\u001b[0m\u001b[1;33m.\u001b[0m\u001b[0mrenderer\u001b[0m\u001b[1;33m)\u001b[0m\u001b[1;33m\u001b[0m\u001b[1;33m\u001b[0m\u001b[0m\n\u001b[0m\u001b[0;32m    403\u001b[0m             \u001b[1;31m# A GUI class may be need to update a window using this draw, so\u001b[0m\u001b[1;33m\u001b[0m\u001b[1;33m\u001b[0m\u001b[1;33m\u001b[0m\u001b[0m\n\u001b[0;32m    404\u001b[0m             \u001b[1;31m# don't forget to call the superclass.\u001b[0m\u001b[1;33m\u001b[0m\u001b[1;33m\u001b[0m\u001b[1;33m\u001b[0m\u001b[0m\n",
      "\u001b[1;32m~\\Anaconda3\\lib\\site-packages\\matplotlib\\artist.py\u001b[0m in \u001b[0;36mdraw_wrapper\u001b[1;34m(artist, renderer, *args, **kwargs)\u001b[0m\n\u001b[0;32m     48\u001b[0m                 \u001b[0mrenderer\u001b[0m\u001b[1;33m.\u001b[0m\u001b[0mstart_filter\u001b[0m\u001b[1;33m(\u001b[0m\u001b[1;33m)\u001b[0m\u001b[1;33m\u001b[0m\u001b[1;33m\u001b[0m\u001b[0m\n\u001b[0;32m     49\u001b[0m \u001b[1;33m\u001b[0m\u001b[0m\n\u001b[1;32m---> 50\u001b[1;33m             \u001b[1;32mreturn\u001b[0m \u001b[0mdraw\u001b[0m\u001b[1;33m(\u001b[0m\u001b[0martist\u001b[0m\u001b[1;33m,\u001b[0m \u001b[0mrenderer\u001b[0m\u001b[1;33m,\u001b[0m \u001b[1;33m*\u001b[0m\u001b[0margs\u001b[0m\u001b[1;33m,\u001b[0m \u001b[1;33m**\u001b[0m\u001b[0mkwargs\u001b[0m\u001b[1;33m)\u001b[0m\u001b[1;33m\u001b[0m\u001b[1;33m\u001b[0m\u001b[0m\n\u001b[0m\u001b[0;32m     51\u001b[0m         \u001b[1;32mfinally\u001b[0m\u001b[1;33m:\u001b[0m\u001b[1;33m\u001b[0m\u001b[1;33m\u001b[0m\u001b[0m\n\u001b[0;32m     52\u001b[0m             \u001b[1;32mif\u001b[0m \u001b[0martist\u001b[0m\u001b[1;33m.\u001b[0m\u001b[0mget_agg_filter\u001b[0m\u001b[1;33m(\u001b[0m\u001b[1;33m)\u001b[0m \u001b[1;32mis\u001b[0m \u001b[1;32mnot\u001b[0m \u001b[1;32mNone\u001b[0m\u001b[1;33m:\u001b[0m\u001b[1;33m\u001b[0m\u001b[1;33m\u001b[0m\u001b[0m\n",
      "\u001b[1;32m~\\Anaconda3\\lib\\site-packages\\matplotlib\\figure.py\u001b[0m in \u001b[0;36mdraw\u001b[1;34m(self, renderer)\u001b[0m\n\u001b[0;32m   1647\u001b[0m \u001b[1;33m\u001b[0m\u001b[0m\n\u001b[0;32m   1648\u001b[0m             mimage._draw_list_compositing_images(\n\u001b[1;32m-> 1649\u001b[1;33m                 renderer, self, artists, self.suppressComposite)\n\u001b[0m\u001b[0;32m   1650\u001b[0m \u001b[1;33m\u001b[0m\u001b[0m\n\u001b[0;32m   1651\u001b[0m             \u001b[0mrenderer\u001b[0m\u001b[1;33m.\u001b[0m\u001b[0mclose_group\u001b[0m\u001b[1;33m(\u001b[0m\u001b[1;34m'figure'\u001b[0m\u001b[1;33m)\u001b[0m\u001b[1;33m\u001b[0m\u001b[1;33m\u001b[0m\u001b[0m\n",
      "\u001b[1;32m~\\Anaconda3\\lib\\site-packages\\matplotlib\\image.py\u001b[0m in \u001b[0;36m_draw_list_compositing_images\u001b[1;34m(renderer, parent, artists, suppress_composite)\u001b[0m\n\u001b[0;32m    136\u001b[0m     \u001b[1;32mif\u001b[0m \u001b[0mnot_composite\u001b[0m \u001b[1;32mor\u001b[0m \u001b[1;32mnot\u001b[0m \u001b[0mhas_images\u001b[0m\u001b[1;33m:\u001b[0m\u001b[1;33m\u001b[0m\u001b[1;33m\u001b[0m\u001b[0m\n\u001b[0;32m    137\u001b[0m         \u001b[1;32mfor\u001b[0m \u001b[0ma\u001b[0m \u001b[1;32min\u001b[0m \u001b[0martists\u001b[0m\u001b[1;33m:\u001b[0m\u001b[1;33m\u001b[0m\u001b[1;33m\u001b[0m\u001b[0m\n\u001b[1;32m--> 138\u001b[1;33m             \u001b[0ma\u001b[0m\u001b[1;33m.\u001b[0m\u001b[0mdraw\u001b[0m\u001b[1;33m(\u001b[0m\u001b[0mrenderer\u001b[0m\u001b[1;33m)\u001b[0m\u001b[1;33m\u001b[0m\u001b[1;33m\u001b[0m\u001b[0m\n\u001b[0m\u001b[0;32m    139\u001b[0m     \u001b[1;32melse\u001b[0m\u001b[1;33m:\u001b[0m\u001b[1;33m\u001b[0m\u001b[1;33m\u001b[0m\u001b[0m\n\u001b[0;32m    140\u001b[0m         \u001b[1;31m# Composite any adjacent images together\u001b[0m\u001b[1;33m\u001b[0m\u001b[1;33m\u001b[0m\u001b[1;33m\u001b[0m\u001b[0m\n",
      "\u001b[1;32m~\\Anaconda3\\lib\\site-packages\\matplotlib\\artist.py\u001b[0m in \u001b[0;36mdraw_wrapper\u001b[1;34m(artist, renderer, *args, **kwargs)\u001b[0m\n\u001b[0;32m     48\u001b[0m                 \u001b[0mrenderer\u001b[0m\u001b[1;33m.\u001b[0m\u001b[0mstart_filter\u001b[0m\u001b[1;33m(\u001b[0m\u001b[1;33m)\u001b[0m\u001b[1;33m\u001b[0m\u001b[1;33m\u001b[0m\u001b[0m\n\u001b[0;32m     49\u001b[0m \u001b[1;33m\u001b[0m\u001b[0m\n\u001b[1;32m---> 50\u001b[1;33m             \u001b[1;32mreturn\u001b[0m \u001b[0mdraw\u001b[0m\u001b[1;33m(\u001b[0m\u001b[0martist\u001b[0m\u001b[1;33m,\u001b[0m \u001b[0mrenderer\u001b[0m\u001b[1;33m,\u001b[0m \u001b[1;33m*\u001b[0m\u001b[0margs\u001b[0m\u001b[1;33m,\u001b[0m \u001b[1;33m**\u001b[0m\u001b[0mkwargs\u001b[0m\u001b[1;33m)\u001b[0m\u001b[1;33m\u001b[0m\u001b[1;33m\u001b[0m\u001b[0m\n\u001b[0m\u001b[0;32m     51\u001b[0m         \u001b[1;32mfinally\u001b[0m\u001b[1;33m:\u001b[0m\u001b[1;33m\u001b[0m\u001b[1;33m\u001b[0m\u001b[0m\n\u001b[0;32m     52\u001b[0m             \u001b[1;32mif\u001b[0m \u001b[0martist\u001b[0m\u001b[1;33m.\u001b[0m\u001b[0mget_agg_filter\u001b[0m\u001b[1;33m(\u001b[0m\u001b[1;33m)\u001b[0m \u001b[1;32mis\u001b[0m \u001b[1;32mnot\u001b[0m \u001b[1;32mNone\u001b[0m\u001b[1;33m:\u001b[0m\u001b[1;33m\u001b[0m\u001b[1;33m\u001b[0m\u001b[0m\n",
      "\u001b[1;32m~\\Anaconda3\\lib\\site-packages\\matplotlib\\axes\\_base.py\u001b[0m in \u001b[0;36mdraw\u001b[1;34m(self, renderer, inframe)\u001b[0m\n\u001b[0;32m   2626\u001b[0m             \u001b[0mrenderer\u001b[0m\u001b[1;33m.\u001b[0m\u001b[0mstop_rasterizing\u001b[0m\u001b[1;33m(\u001b[0m\u001b[1;33m)\u001b[0m\u001b[1;33m\u001b[0m\u001b[1;33m\u001b[0m\u001b[0m\n\u001b[0;32m   2627\u001b[0m \u001b[1;33m\u001b[0m\u001b[0m\n\u001b[1;32m-> 2628\u001b[1;33m         \u001b[0mmimage\u001b[0m\u001b[1;33m.\u001b[0m\u001b[0m_draw_list_compositing_images\u001b[0m\u001b[1;33m(\u001b[0m\u001b[0mrenderer\u001b[0m\u001b[1;33m,\u001b[0m \u001b[0mself\u001b[0m\u001b[1;33m,\u001b[0m \u001b[0martists\u001b[0m\u001b[1;33m)\u001b[0m\u001b[1;33m\u001b[0m\u001b[1;33m\u001b[0m\u001b[0m\n\u001b[0m\u001b[0;32m   2629\u001b[0m \u001b[1;33m\u001b[0m\u001b[0m\n\u001b[0;32m   2630\u001b[0m         \u001b[0mrenderer\u001b[0m\u001b[1;33m.\u001b[0m\u001b[0mclose_group\u001b[0m\u001b[1;33m(\u001b[0m\u001b[1;34m'axes'\u001b[0m\u001b[1;33m)\u001b[0m\u001b[1;33m\u001b[0m\u001b[1;33m\u001b[0m\u001b[0m\n",
      "\u001b[1;32m~\\Anaconda3\\lib\\site-packages\\matplotlib\\image.py\u001b[0m in \u001b[0;36m_draw_list_compositing_images\u001b[1;34m(renderer, parent, artists, suppress_composite)\u001b[0m\n\u001b[0;32m    136\u001b[0m     \u001b[1;32mif\u001b[0m \u001b[0mnot_composite\u001b[0m \u001b[1;32mor\u001b[0m \u001b[1;32mnot\u001b[0m \u001b[0mhas_images\u001b[0m\u001b[1;33m:\u001b[0m\u001b[1;33m\u001b[0m\u001b[1;33m\u001b[0m\u001b[0m\n\u001b[0;32m    137\u001b[0m         \u001b[1;32mfor\u001b[0m \u001b[0ma\u001b[0m \u001b[1;32min\u001b[0m \u001b[0martists\u001b[0m\u001b[1;33m:\u001b[0m\u001b[1;33m\u001b[0m\u001b[1;33m\u001b[0m\u001b[0m\n\u001b[1;32m--> 138\u001b[1;33m             \u001b[0ma\u001b[0m\u001b[1;33m.\u001b[0m\u001b[0mdraw\u001b[0m\u001b[1;33m(\u001b[0m\u001b[0mrenderer\u001b[0m\u001b[1;33m)\u001b[0m\u001b[1;33m\u001b[0m\u001b[1;33m\u001b[0m\u001b[0m\n\u001b[0m\u001b[0;32m    139\u001b[0m     \u001b[1;32melse\u001b[0m\u001b[1;33m:\u001b[0m\u001b[1;33m\u001b[0m\u001b[1;33m\u001b[0m\u001b[0m\n\u001b[0;32m    140\u001b[0m         \u001b[1;31m# Composite any adjacent images together\u001b[0m\u001b[1;33m\u001b[0m\u001b[1;33m\u001b[0m\u001b[1;33m\u001b[0m\u001b[0m\n",
      "\u001b[1;32m~\\Anaconda3\\lib\\site-packages\\matplotlib\\artist.py\u001b[0m in \u001b[0;36mdraw_wrapper\u001b[1;34m(artist, renderer, *args, **kwargs)\u001b[0m\n\u001b[0;32m     48\u001b[0m                 \u001b[0mrenderer\u001b[0m\u001b[1;33m.\u001b[0m\u001b[0mstart_filter\u001b[0m\u001b[1;33m(\u001b[0m\u001b[1;33m)\u001b[0m\u001b[1;33m\u001b[0m\u001b[1;33m\u001b[0m\u001b[0m\n\u001b[0;32m     49\u001b[0m \u001b[1;33m\u001b[0m\u001b[0m\n\u001b[1;32m---> 50\u001b[1;33m             \u001b[1;32mreturn\u001b[0m \u001b[0mdraw\u001b[0m\u001b[1;33m(\u001b[0m\u001b[0martist\u001b[0m\u001b[1;33m,\u001b[0m \u001b[0mrenderer\u001b[0m\u001b[1;33m,\u001b[0m \u001b[1;33m*\u001b[0m\u001b[0margs\u001b[0m\u001b[1;33m,\u001b[0m \u001b[1;33m**\u001b[0m\u001b[0mkwargs\u001b[0m\u001b[1;33m)\u001b[0m\u001b[1;33m\u001b[0m\u001b[1;33m\u001b[0m\u001b[0m\n\u001b[0m\u001b[0;32m     51\u001b[0m         \u001b[1;32mfinally\u001b[0m\u001b[1;33m:\u001b[0m\u001b[1;33m\u001b[0m\u001b[1;33m\u001b[0m\u001b[0m\n\u001b[0;32m     52\u001b[0m             \u001b[1;32mif\u001b[0m \u001b[0martist\u001b[0m\u001b[1;33m.\u001b[0m\u001b[0mget_agg_filter\u001b[0m\u001b[1;33m(\u001b[0m\u001b[1;33m)\u001b[0m \u001b[1;32mis\u001b[0m \u001b[1;32mnot\u001b[0m \u001b[1;32mNone\u001b[0m\u001b[1;33m:\u001b[0m\u001b[1;33m\u001b[0m\u001b[1;33m\u001b[0m\u001b[0m\n",
      "\u001b[1;32m~\\Anaconda3\\lib\\site-packages\\matplotlib\\axis.py\u001b[0m in \u001b[0;36mdraw\u001b[1;34m(self, renderer, *args, **kwargs)\u001b[0m\n\u001b[0;32m   1195\u001b[0m         \u001b[1;31m# the actual bbox\u001b[0m\u001b[1;33m\u001b[0m\u001b[1;33m\u001b[0m\u001b[1;33m\u001b[0m\u001b[0m\n\u001b[0;32m   1196\u001b[0m \u001b[1;33m\u001b[0m\u001b[0m\n\u001b[1;32m-> 1197\u001b[1;33m         \u001b[0mself\u001b[0m\u001b[1;33m.\u001b[0m\u001b[0m_update_label_position\u001b[0m\u001b[1;33m(\u001b[0m\u001b[0mrenderer\u001b[0m\u001b[1;33m)\u001b[0m\u001b[1;33m\u001b[0m\u001b[1;33m\u001b[0m\u001b[0m\n\u001b[0m\u001b[0;32m   1198\u001b[0m \u001b[1;33m\u001b[0m\u001b[0m\n\u001b[0;32m   1199\u001b[0m         \u001b[0mself\u001b[0m\u001b[1;33m.\u001b[0m\u001b[0mlabel\u001b[0m\u001b[1;33m.\u001b[0m\u001b[0mdraw\u001b[0m\u001b[1;33m(\u001b[0m\u001b[0mrenderer\u001b[0m\u001b[1;33m)\u001b[0m\u001b[1;33m\u001b[0m\u001b[1;33m\u001b[0m\u001b[0m\n",
      "\u001b[1;32m~\\Anaconda3\\lib\\site-packages\\matplotlib\\axis.py\u001b[0m in \u001b[0;36m_update_label_position\u001b[1;34m(self, renderer)\u001b[0m\n\u001b[0;32m   1932\u001b[0m         \u001b[1;31m# get bounding boxes for this axis and any siblings\u001b[0m\u001b[1;33m\u001b[0m\u001b[1;33m\u001b[0m\u001b[1;33m\u001b[0m\u001b[0m\n\u001b[0;32m   1933\u001b[0m         \u001b[1;31m# that have been set by `fig.align_xlabels()`\u001b[0m\u001b[1;33m\u001b[0m\u001b[1;33m\u001b[0m\u001b[1;33m\u001b[0m\u001b[0m\n\u001b[1;32m-> 1934\u001b[1;33m         \u001b[0mbboxes\u001b[0m\u001b[1;33m,\u001b[0m \u001b[0mbboxes2\u001b[0m \u001b[1;33m=\u001b[0m \u001b[0mself\u001b[0m\u001b[1;33m.\u001b[0m\u001b[0m_get_tick_boxes_siblings\u001b[0m\u001b[1;33m(\u001b[0m\u001b[0mrenderer\u001b[0m\u001b[1;33m=\u001b[0m\u001b[0mrenderer\u001b[0m\u001b[1;33m)\u001b[0m\u001b[1;33m\u001b[0m\u001b[1;33m\u001b[0m\u001b[0m\n\u001b[0m\u001b[0;32m   1935\u001b[0m \u001b[1;33m\u001b[0m\u001b[0m\n\u001b[0;32m   1936\u001b[0m         \u001b[0mx\u001b[0m\u001b[1;33m,\u001b[0m \u001b[0my\u001b[0m \u001b[1;33m=\u001b[0m \u001b[0mself\u001b[0m\u001b[1;33m.\u001b[0m\u001b[0mlabel\u001b[0m\u001b[1;33m.\u001b[0m\u001b[0mget_position\u001b[0m\u001b[1;33m(\u001b[0m\u001b[1;33m)\u001b[0m\u001b[1;33m\u001b[0m\u001b[1;33m\u001b[0m\u001b[0m\n",
      "\u001b[1;32m~\\Anaconda3\\lib\\site-packages\\matplotlib\\axis.py\u001b[0m in \u001b[0;36m_get_tick_boxes_siblings\u001b[1;34m(self, renderer)\u001b[0m\n\u001b[0;32m   1917\u001b[0m         \u001b[1;32mfor\u001b[0m \u001b[0mnn\u001b[0m\u001b[1;33m,\u001b[0m \u001b[0maxx\u001b[0m \u001b[1;32min\u001b[0m \u001b[0menumerate\u001b[0m\u001b[1;33m(\u001b[0m\u001b[0mgrp\u001b[0m\u001b[1;33m.\u001b[0m\u001b[0mget_siblings\u001b[0m\u001b[1;33m(\u001b[0m\u001b[0mself\u001b[0m\u001b[1;33m.\u001b[0m\u001b[0maxes\u001b[0m\u001b[1;33m)\u001b[0m\u001b[1;33m)\u001b[0m\u001b[1;33m:\u001b[0m\u001b[1;33m\u001b[0m\u001b[1;33m\u001b[0m\u001b[0m\n\u001b[0;32m   1918\u001b[0m             \u001b[0mticks_to_draw\u001b[0m \u001b[1;33m=\u001b[0m \u001b[0maxx\u001b[0m\u001b[1;33m.\u001b[0m\u001b[0mxaxis\u001b[0m\u001b[1;33m.\u001b[0m\u001b[0m_update_ticks\u001b[0m\u001b[1;33m(\u001b[0m\u001b[0mrenderer\u001b[0m\u001b[1;33m)\u001b[0m\u001b[1;33m\u001b[0m\u001b[1;33m\u001b[0m\u001b[0m\n\u001b[1;32m-> 1919\u001b[1;33m             \u001b[0mtlb\u001b[0m\u001b[1;33m,\u001b[0m \u001b[0mtlb2\u001b[0m \u001b[1;33m=\u001b[0m \u001b[0maxx\u001b[0m\u001b[1;33m.\u001b[0m\u001b[0mxaxis\u001b[0m\u001b[1;33m.\u001b[0m\u001b[0m_get_tick_bboxes\u001b[0m\u001b[1;33m(\u001b[0m\u001b[0mticks_to_draw\u001b[0m\u001b[1;33m,\u001b[0m \u001b[0mrenderer\u001b[0m\u001b[1;33m)\u001b[0m\u001b[1;33m\u001b[0m\u001b[1;33m\u001b[0m\u001b[0m\n\u001b[0m\u001b[0;32m   1920\u001b[0m             \u001b[0mbboxes\u001b[0m\u001b[1;33m.\u001b[0m\u001b[0mextend\u001b[0m\u001b[1;33m(\u001b[0m\u001b[0mtlb\u001b[0m\u001b[1;33m)\u001b[0m\u001b[1;33m\u001b[0m\u001b[1;33m\u001b[0m\u001b[0m\n\u001b[0;32m   1921\u001b[0m             \u001b[0mbboxes2\u001b[0m\u001b[1;33m.\u001b[0m\u001b[0mextend\u001b[0m\u001b[1;33m(\u001b[0m\u001b[0mtlb2\u001b[0m\u001b[1;33m)\u001b[0m\u001b[1;33m\u001b[0m\u001b[1;33m\u001b[0m\u001b[0m\n",
      "\u001b[1;32m~\\Anaconda3\\lib\\site-packages\\matplotlib\\axis.py\u001b[0m in \u001b[0;36m_get_tick_bboxes\u001b[1;34m(self, ticks, renderer)\u001b[0m\n\u001b[0;32m   1123\u001b[0m         \u001b[1;32mfor\u001b[0m \u001b[0mtick\u001b[0m \u001b[1;32min\u001b[0m \u001b[0mticks\u001b[0m\u001b[1;33m:\u001b[0m\u001b[1;33m\u001b[0m\u001b[1;33m\u001b[0m\u001b[0m\n\u001b[0;32m   1124\u001b[0m             \u001b[1;32mif\u001b[0m \u001b[0mtick\u001b[0m\u001b[1;33m.\u001b[0m\u001b[0mlabel1On\u001b[0m \u001b[1;32mand\u001b[0m \u001b[0mtick\u001b[0m\u001b[1;33m.\u001b[0m\u001b[0mlabel1\u001b[0m\u001b[1;33m.\u001b[0m\u001b[0mget_visible\u001b[0m\u001b[1;33m(\u001b[0m\u001b[1;33m)\u001b[0m\u001b[1;33m:\u001b[0m\u001b[1;33m\u001b[0m\u001b[1;33m\u001b[0m\u001b[0m\n\u001b[1;32m-> 1125\u001b[1;33m                 \u001b[0mextent\u001b[0m \u001b[1;33m=\u001b[0m \u001b[0mtick\u001b[0m\u001b[1;33m.\u001b[0m\u001b[0mlabel1\u001b[0m\u001b[1;33m.\u001b[0m\u001b[0mget_window_extent\u001b[0m\u001b[1;33m(\u001b[0m\u001b[0mrenderer\u001b[0m\u001b[1;33m)\u001b[0m\u001b[1;33m\u001b[0m\u001b[1;33m\u001b[0m\u001b[0m\n\u001b[0m\u001b[0;32m   1126\u001b[0m                 \u001b[0mticklabelBoxes\u001b[0m\u001b[1;33m.\u001b[0m\u001b[0mappend\u001b[0m\u001b[1;33m(\u001b[0m\u001b[0mextent\u001b[0m\u001b[1;33m)\u001b[0m\u001b[1;33m\u001b[0m\u001b[1;33m\u001b[0m\u001b[0m\n\u001b[0;32m   1127\u001b[0m             \u001b[1;32mif\u001b[0m \u001b[0mtick\u001b[0m\u001b[1;33m.\u001b[0m\u001b[0mlabel2On\u001b[0m \u001b[1;32mand\u001b[0m \u001b[0mtick\u001b[0m\u001b[1;33m.\u001b[0m\u001b[0mlabel2\u001b[0m\u001b[1;33m.\u001b[0m\u001b[0mget_visible\u001b[0m\u001b[1;33m(\u001b[0m\u001b[1;33m)\u001b[0m\u001b[1;33m:\u001b[0m\u001b[1;33m\u001b[0m\u001b[1;33m\u001b[0m\u001b[0m\n",
      "\u001b[1;32m~\\Anaconda3\\lib\\site-packages\\matplotlib\\text.py\u001b[0m in \u001b[0;36mget_window_extent\u001b[1;34m(self, renderer, dpi)\u001b[0m\n\u001b[0;32m    930\u001b[0m         \u001b[0mbbox\u001b[0m\u001b[1;33m,\u001b[0m \u001b[0minfo\u001b[0m\u001b[1;33m,\u001b[0m \u001b[0mdescent\u001b[0m \u001b[1;33m=\u001b[0m \u001b[0mself\u001b[0m\u001b[1;33m.\u001b[0m\u001b[0m_get_layout\u001b[0m\u001b[1;33m(\u001b[0m\u001b[0mself\u001b[0m\u001b[1;33m.\u001b[0m\u001b[0m_renderer\u001b[0m\u001b[1;33m)\u001b[0m\u001b[1;33m\u001b[0m\u001b[1;33m\u001b[0m\u001b[0m\n\u001b[0;32m    931\u001b[0m         \u001b[0mx\u001b[0m\u001b[1;33m,\u001b[0m \u001b[0my\u001b[0m \u001b[1;33m=\u001b[0m \u001b[0mself\u001b[0m\u001b[1;33m.\u001b[0m\u001b[0mget_unitless_position\u001b[0m\u001b[1;33m(\u001b[0m\u001b[1;33m)\u001b[0m\u001b[1;33m\u001b[0m\u001b[1;33m\u001b[0m\u001b[0m\n\u001b[1;32m--> 932\u001b[1;33m         \u001b[0mx\u001b[0m\u001b[1;33m,\u001b[0m \u001b[0my\u001b[0m \u001b[1;33m=\u001b[0m \u001b[0mself\u001b[0m\u001b[1;33m.\u001b[0m\u001b[0mget_transform\u001b[0m\u001b[1;33m(\u001b[0m\u001b[1;33m)\u001b[0m\u001b[1;33m.\u001b[0m\u001b[0mtransform_point\u001b[0m\u001b[1;33m(\u001b[0m\u001b[1;33m(\u001b[0m\u001b[0mx\u001b[0m\u001b[1;33m,\u001b[0m \u001b[0my\u001b[0m\u001b[1;33m)\u001b[0m\u001b[1;33m)\u001b[0m\u001b[1;33m\u001b[0m\u001b[1;33m\u001b[0m\u001b[0m\n\u001b[0m\u001b[0;32m    933\u001b[0m         \u001b[0mbbox\u001b[0m \u001b[1;33m=\u001b[0m \u001b[0mbbox\u001b[0m\u001b[1;33m.\u001b[0m\u001b[0mtranslated\u001b[0m\u001b[1;33m(\u001b[0m\u001b[0mx\u001b[0m\u001b[1;33m,\u001b[0m \u001b[0my\u001b[0m\u001b[1;33m)\u001b[0m\u001b[1;33m\u001b[0m\u001b[1;33m\u001b[0m\u001b[0m\n\u001b[0;32m    934\u001b[0m         \u001b[1;32mif\u001b[0m \u001b[0mdpi\u001b[0m \u001b[1;32mis\u001b[0m \u001b[1;32mnot\u001b[0m \u001b[1;32mNone\u001b[0m\u001b[1;33m:\u001b[0m\u001b[1;33m\u001b[0m\u001b[1;33m\u001b[0m\u001b[0m\n",
      "\u001b[1;32m~\\Anaconda3\\lib\\site-packages\\matplotlib\\transforms.py\u001b[0m in \u001b[0;36mtransform_point\u001b[1;34m(self, point)\u001b[0m\n\u001b[0;32m   1509\u001b[0m         \u001b[1;32mif\u001b[0m \u001b[0mlen\u001b[0m\u001b[1;33m(\u001b[0m\u001b[0mpoint\u001b[0m\u001b[1;33m)\u001b[0m \u001b[1;33m!=\u001b[0m \u001b[0mself\u001b[0m\u001b[1;33m.\u001b[0m\u001b[0minput_dims\u001b[0m\u001b[1;33m:\u001b[0m\u001b[1;33m\u001b[0m\u001b[1;33m\u001b[0m\u001b[0m\n\u001b[0;32m   1510\u001b[0m             \u001b[1;32mraise\u001b[0m \u001b[0mValueError\u001b[0m\u001b[1;33m(\u001b[0m\u001b[1;34m\"The length of 'point' must be 'self.input_dims'\"\u001b[0m\u001b[1;33m)\u001b[0m\u001b[1;33m\u001b[0m\u001b[1;33m\u001b[0m\u001b[0m\n\u001b[1;32m-> 1511\u001b[1;33m         \u001b[1;32mreturn\u001b[0m \u001b[0mself\u001b[0m\u001b[1;33m.\u001b[0m\u001b[0mtransform\u001b[0m\u001b[1;33m(\u001b[0m\u001b[0mnp\u001b[0m\u001b[1;33m.\u001b[0m\u001b[0masarray\u001b[0m\u001b[1;33m(\u001b[0m\u001b[1;33m[\u001b[0m\u001b[0mpoint\u001b[0m\u001b[1;33m]\u001b[0m\u001b[1;33m)\u001b[0m\u001b[1;33m)\u001b[0m\u001b[1;33m[\u001b[0m\u001b[1;36m0\u001b[0m\u001b[1;33m]\u001b[0m\u001b[1;33m\u001b[0m\u001b[1;33m\u001b[0m\u001b[0m\n\u001b[0m\u001b[0;32m   1512\u001b[0m \u001b[1;33m\u001b[0m\u001b[0m\n\u001b[0;32m   1513\u001b[0m     \u001b[1;32mdef\u001b[0m \u001b[0mtransform_path\u001b[0m\u001b[1;33m(\u001b[0m\u001b[0mself\u001b[0m\u001b[1;33m,\u001b[0m \u001b[0mpath\u001b[0m\u001b[1;33m)\u001b[0m\u001b[1;33m:\u001b[0m\u001b[1;33m\u001b[0m\u001b[1;33m\u001b[0m\u001b[0m\n",
      "\u001b[1;32m~\\Anaconda3\\lib\\site-packages\\matplotlib\\transforms.py\u001b[0m in \u001b[0;36mtransform\u001b[1;34m(self, values)\u001b[0m\n\u001b[0;32m   1422\u001b[0m \u001b[1;33m\u001b[0m\u001b[0m\n\u001b[0;32m   1423\u001b[0m         \u001b[1;31m# Transform the values\u001b[0m\u001b[1;33m\u001b[0m\u001b[1;33m\u001b[0m\u001b[1;33m\u001b[0m\u001b[0m\n\u001b[1;32m-> 1424\u001b[1;33m         \u001b[0mres\u001b[0m \u001b[1;33m=\u001b[0m \u001b[0mself\u001b[0m\u001b[1;33m.\u001b[0m\u001b[0mtransform_affine\u001b[0m\u001b[1;33m(\u001b[0m\u001b[0mself\u001b[0m\u001b[1;33m.\u001b[0m\u001b[0mtransform_non_affine\u001b[0m\u001b[1;33m(\u001b[0m\u001b[0mvalues\u001b[0m\u001b[1;33m)\u001b[0m\u001b[1;33m)\u001b[0m\u001b[1;33m\u001b[0m\u001b[1;33m\u001b[0m\u001b[0m\n\u001b[0m\u001b[0;32m   1425\u001b[0m \u001b[1;33m\u001b[0m\u001b[0m\n\u001b[0;32m   1426\u001b[0m         \u001b[1;31m# Convert the result back to the shape of the input values.\u001b[0m\u001b[1;33m\u001b[0m\u001b[1;33m\u001b[0m\u001b[1;33m\u001b[0m\u001b[0m\n",
      "\u001b[1;32m~\\Anaconda3\\lib\\site-packages\\matplotlib\\transforms.py\u001b[0m in \u001b[0;36mtransform_affine\u001b[1;34m(self, points)\u001b[0m\n\u001b[0;32m   2432\u001b[0m \u001b[1;33m\u001b[0m\u001b[0m\n\u001b[0;32m   2433\u001b[0m     \u001b[1;32mdef\u001b[0m \u001b[0mtransform_affine\u001b[0m\u001b[1;33m(\u001b[0m\u001b[0mself\u001b[0m\u001b[1;33m,\u001b[0m \u001b[0mpoints\u001b[0m\u001b[1;33m)\u001b[0m\u001b[1;33m:\u001b[0m\u001b[1;33m\u001b[0m\u001b[1;33m\u001b[0m\u001b[0m\n\u001b[1;32m-> 2434\u001b[1;33m         \u001b[1;32mreturn\u001b[0m \u001b[0mself\u001b[0m\u001b[1;33m.\u001b[0m\u001b[0mget_affine\u001b[0m\u001b[1;33m(\u001b[0m\u001b[1;33m)\u001b[0m\u001b[1;33m.\u001b[0m\u001b[0mtransform\u001b[0m\u001b[1;33m(\u001b[0m\u001b[0mpoints\u001b[0m\u001b[1;33m)\u001b[0m\u001b[1;33m\u001b[0m\u001b[1;33m\u001b[0m\u001b[0m\n\u001b[0m\u001b[0;32m   2435\u001b[0m     \u001b[0mtransform_affine\u001b[0m\u001b[1;33m.\u001b[0m\u001b[0m__doc__\u001b[0m \u001b[1;33m=\u001b[0m \u001b[0mTransform\u001b[0m\u001b[1;33m.\u001b[0m\u001b[0mtransform_affine\u001b[0m\u001b[1;33m.\u001b[0m\u001b[0m__doc__\u001b[0m\u001b[1;33m\u001b[0m\u001b[1;33m\u001b[0m\u001b[0m\n\u001b[0;32m   2436\u001b[0m \u001b[1;33m\u001b[0m\u001b[0m\n",
      "\u001b[1;32m~\\Anaconda3\\lib\\site-packages\\matplotlib\\transforms.py\u001b[0m in \u001b[0;36mget_affine\u001b[1;34m(self)\u001b[0m\n\u001b[0;32m   2460\u001b[0m         \u001b[1;32melse\u001b[0m\u001b[1;33m:\u001b[0m\u001b[1;33m\u001b[0m\u001b[1;33m\u001b[0m\u001b[0m\n\u001b[0;32m   2461\u001b[0m             return Affine2D(np.dot(self._b.get_affine().get_matrix(),\n\u001b[1;32m-> 2462\u001b[1;33m                                 self._a.get_affine().get_matrix()))\n\u001b[0m\u001b[0;32m   2463\u001b[0m     \u001b[0mget_affine\u001b[0m\u001b[1;33m.\u001b[0m\u001b[0m__doc__\u001b[0m \u001b[1;33m=\u001b[0m \u001b[0mTransform\u001b[0m\u001b[1;33m.\u001b[0m\u001b[0mget_affine\u001b[0m\u001b[1;33m.\u001b[0m\u001b[0m__doc__\u001b[0m\u001b[1;33m\u001b[0m\u001b[1;33m\u001b[0m\u001b[0m\n\u001b[0;32m   2464\u001b[0m \u001b[1;33m\u001b[0m\u001b[0m\n",
      "\u001b[1;31mKeyboardInterrupt\u001b[0m: "
     ]
    }
   ],
   "source": [
    "for i in range(708):\n",
    "    print(Ytrm[i])\n",
    "    showImage(Xtrm[i])"
   ]
  },
  {
   "cell_type": "code",
   "execution_count": 998,
   "metadata": {},
   "outputs": [],
   "source": [
    "trainM_dataset = []\n",
    "testM_dataset = []\n",
    "\n",
    "for i in range(Xtrm.shape[0]):\n",
    "   trainM_dataset.append([Xtrm[i], Ytrm[i]])\n",
    "for i in range(Xtsm.shape[0]):\n",
    "   testM_dataset.append([Xtsm[i], Ytsm[i]])\n",
    "\n",
    "trainM_loader = DataLoader(dataset=trainM_dataset, batch_size=batch_size, shuffle=True)\n",
    "testM_loader = DataLoader(dataset=testM_dataset, batch_size=batch_size, shuffle=True)"
   ]
  },
  {
   "cell_type": "code",
   "execution_count": 999,
   "metadata": {},
   "outputs": [],
   "source": [
    "model2 = ConvNetMix ()\n",
    "\n",
    "# Loss and optimizer\n",
    "criterion2 = nn.CrossEntropyLoss()\n",
    "optimizer2 = torch.optim.Adam(model2.parameters(), lr=learning_rate)"
   ]
  },
  {
   "cell_type": "code",
   "execution_count": 1000,
   "metadata": {},
   "outputs": [
    {
     "name": "stdout",
     "output_type": "stream",
     "text": [
      "Epoch [1/2], Step [24/2400], Loss: 2.4288, Accuracy: 8.00%\n",
      "Epoch [1/2], Step [48/2400], Loss: 2.1254, Accuracy: 36.00%\n",
      "Epoch [1/2], Step [72/2400], Loss: 2.1955, Accuracy: 32.00%\n",
      "Epoch [1/2], Step [96/2400], Loss: 2.1280, Accuracy: 40.00%\n",
      "Epoch [1/2], Step [120/2400], Loss: 1.9545, Accuracy: 32.00%\n",
      "Epoch [1/2], Step [144/2400], Loss: 2.0497, Accuracy: 28.00%\n",
      "Epoch [1/2], Step [168/2400], Loss: 2.0350, Accuracy: 44.00%\n",
      "Epoch [1/2], Step [192/2400], Loss: 1.6707, Accuracy: 56.00%\n",
      "Epoch [1/2], Step [216/2400], Loss: 2.2024, Accuracy: 32.00%\n",
      "Epoch [1/2], Step [240/2400], Loss: 1.9164, Accuracy: 40.00%\n",
      "Epoch [1/2], Step [264/2400], Loss: 1.9858, Accuracy: 40.00%\n",
      "Epoch [1/2], Step [288/2400], Loss: 2.1684, Accuracy: 32.00%\n",
      "Epoch [1/2], Step [312/2400], Loss: 2.2652, Accuracy: 24.00%\n",
      "Epoch [1/2], Step [336/2400], Loss: 1.6984, Accuracy: 68.00%\n",
      "Epoch [1/2], Step [360/2400], Loss: 1.8101, Accuracy: 52.00%\n",
      "Epoch [1/2], Step [384/2400], Loss: 2.2814, Accuracy: 32.00%\n",
      "Epoch [1/2], Step [408/2400], Loss: 2.2162, Accuracy: 24.00%\n",
      "Epoch [1/2], Step [432/2400], Loss: 1.7651, Accuracy: 52.00%\n",
      "Epoch [1/2], Step [456/2400], Loss: 1.9033, Accuracy: 48.00%\n",
      "Epoch [1/2], Step [480/2400], Loss: 2.0741, Accuracy: 36.00%\n",
      "Epoch [1/2], Step [504/2400], Loss: 2.0779, Accuracy: 44.00%\n",
      "Epoch [1/2], Step [528/2400], Loss: 1.9852, Accuracy: 40.00%\n",
      "Epoch [1/2], Step [552/2400], Loss: 1.8499, Accuracy: 52.00%\n",
      "Epoch [1/2], Step [576/2400], Loss: 2.0579, Accuracy: 28.00%\n",
      "Epoch [1/2], Step [600/2400], Loss: 1.8748, Accuracy: 52.00%\n",
      "Epoch [1/2], Step [624/2400], Loss: 2.3153, Accuracy: 24.00%\n",
      "Epoch [1/2], Step [648/2400], Loss: 2.0765, Accuracy: 40.00%\n",
      "Epoch [1/2], Step [672/2400], Loss: 1.7478, Accuracy: 52.00%\n",
      "Epoch [1/2], Step [696/2400], Loss: 1.6509, Accuracy: 60.00%\n",
      "Epoch [1/2], Step [720/2400], Loss: 2.2108, Accuracy: 36.00%\n",
      "Epoch [1/2], Step [744/2400], Loss: 2.1289, Accuracy: 36.00%\n",
      "Epoch [1/2], Step [768/2400], Loss: 2.0365, Accuracy: 40.00%\n",
      "Epoch [1/2], Step [792/2400], Loss: 1.7767, Accuracy: 40.00%\n",
      "Epoch [1/2], Step [816/2400], Loss: 1.9986, Accuracy: 48.00%\n",
      "Epoch [1/2], Step [840/2400], Loss: 1.5507, Accuracy: 64.00%\n",
      "Epoch [1/2], Step [864/2400], Loss: 2.1394, Accuracy: 48.00%\n",
      "Epoch [1/2], Step [888/2400], Loss: 1.7710, Accuracy: 52.00%\n",
      "Epoch [1/2], Step [912/2400], Loss: 2.1756, Accuracy: 28.00%\n",
      "Epoch [1/2], Step [936/2400], Loss: 2.0433, Accuracy: 36.00%\n",
      "Epoch [1/2], Step [960/2400], Loss: 1.7420, Accuracy: 48.00%\n",
      "Epoch [1/2], Step [984/2400], Loss: 2.1912, Accuracy: 44.00%\n",
      "Epoch [1/2], Step [1008/2400], Loss: 1.9788, Accuracy: 40.00%\n",
      "Epoch [1/2], Step [1032/2400], Loss: 2.0008, Accuracy: 40.00%\n",
      "Epoch [1/2], Step [1056/2400], Loss: 1.4944, Accuracy: 64.00%\n",
      "Epoch [1/2], Step [1080/2400], Loss: 2.1526, Accuracy: 40.00%\n",
      "Epoch [1/2], Step [1104/2400], Loss: 1.9667, Accuracy: 44.00%\n",
      "Epoch [1/2], Step [1128/2400], Loss: 2.0170, Accuracy: 40.00%\n",
      "Epoch [1/2], Step [1152/2400], Loss: 2.0000, Accuracy: 44.00%\n",
      "Epoch [1/2], Step [1176/2400], Loss: 1.8055, Accuracy: 52.00%\n",
      "Epoch [1/2], Step [1200/2400], Loss: 2.2944, Accuracy: 28.00%\n",
      "Epoch [1/2], Step [1224/2400], Loss: 1.8364, Accuracy: 44.00%\n",
      "Epoch [1/2], Step [1248/2400], Loss: 2.3820, Accuracy: 20.00%\n",
      "Epoch [1/2], Step [1272/2400], Loss: 1.8727, Accuracy: 48.00%\n",
      "Epoch [1/2], Step [1296/2400], Loss: 1.8253, Accuracy: 55.00%\n",
      "Epoch [2/2], Step [24/2400], Loss: 1.7475, Accuracy: 44.00%\n",
      "Epoch [2/2], Step [48/2400], Loss: 1.9615, Accuracy: 48.00%\n",
      "Epoch [2/2], Step [72/2400], Loss: 1.6968, Accuracy: 52.00%\n",
      "Epoch [2/2], Step [96/2400], Loss: 2.1854, Accuracy: 24.00%\n",
      "Epoch [2/2], Step [120/2400], Loss: 2.2226, Accuracy: 32.00%\n",
      "Epoch [2/2], Step [144/2400], Loss: 1.9312, Accuracy: 48.00%\n",
      "Epoch [2/2], Step [168/2400], Loss: 1.7710, Accuracy: 48.00%\n",
      "Epoch [2/2], Step [192/2400], Loss: 2.1775, Accuracy: 32.00%\n",
      "Epoch [2/2], Step [216/2400], Loss: 1.7373, Accuracy: 52.00%\n",
      "Epoch [2/2], Step [240/2400], Loss: 1.9565, Accuracy: 48.00%\n",
      "Epoch [2/2], Step [264/2400], Loss: 2.0062, Accuracy: 36.00%\n",
      "Epoch [2/2], Step [288/2400], Loss: 1.9035, Accuracy: 48.00%\n",
      "Epoch [2/2], Step [312/2400], Loss: 1.8913, Accuracy: 48.00%\n",
      "Epoch [2/2], Step [336/2400], Loss: 1.9308, Accuracy: 52.00%\n",
      "Epoch [2/2], Step [360/2400], Loss: 1.4293, Accuracy: 72.00%\n",
      "Epoch [2/2], Step [384/2400], Loss: 1.9616, Accuracy: 48.00%\n",
      "Epoch [2/2], Step [408/2400], Loss: 1.9103, Accuracy: 48.00%\n",
      "Epoch [2/2], Step [432/2400], Loss: 1.8234, Accuracy: 48.00%\n",
      "Epoch [2/2], Step [456/2400], Loss: 1.8221, Accuracy: 48.00%\n",
      "Epoch [2/2], Step [480/2400], Loss: 1.5306, Accuracy: 68.00%\n",
      "Epoch [2/2], Step [504/2400], Loss: 1.7824, Accuracy: 52.00%\n",
      "Epoch [2/2], Step [528/2400], Loss: 1.7175, Accuracy: 64.00%\n",
      "Epoch [2/2], Step [552/2400], Loss: 1.9573, Accuracy: 44.00%\n",
      "Epoch [2/2], Step [576/2400], Loss: 1.7945, Accuracy: 52.00%\n",
      "Epoch [2/2], Step [600/2400], Loss: 2.1137, Accuracy: 40.00%\n",
      "Epoch [2/2], Step [624/2400], Loss: 1.8652, Accuracy: 48.00%\n",
      "Epoch [2/2], Step [648/2400], Loss: 2.1375, Accuracy: 32.00%\n",
      "Epoch [2/2], Step [672/2400], Loss: 2.0723, Accuracy: 40.00%\n",
      "Epoch [2/2], Step [696/2400], Loss: 1.8531, Accuracy: 52.00%\n",
      "Epoch [2/2], Step [720/2400], Loss: 2.0181, Accuracy: 48.00%\n",
      "Epoch [2/2], Step [744/2400], Loss: 1.7653, Accuracy: 48.00%\n",
      "Epoch [2/2], Step [768/2400], Loss: 1.9300, Accuracy: 52.00%\n",
      "Epoch [2/2], Step [792/2400], Loss: 1.7615, Accuracy: 52.00%\n",
      "Epoch [2/2], Step [816/2400], Loss: 2.2874, Accuracy: 28.00%\n",
      "Epoch [2/2], Step [840/2400], Loss: 1.8647, Accuracy: 40.00%\n",
      "Epoch [2/2], Step [864/2400], Loss: 2.0624, Accuracy: 36.00%\n",
      "Epoch [2/2], Step [888/2400], Loss: 1.7780, Accuracy: 52.00%\n",
      "Epoch [2/2], Step [912/2400], Loss: 1.5571, Accuracy: 60.00%\n",
      "Epoch [2/2], Step [936/2400], Loss: 1.3553, Accuracy: 72.00%\n",
      "Epoch [2/2], Step [960/2400], Loss: 1.8453, Accuracy: 52.00%\n",
      "Epoch [2/2], Step [984/2400], Loss: 1.7442, Accuracy: 60.00%\n",
      "Epoch [2/2], Step [1008/2400], Loss: 1.9810, Accuracy: 36.00%\n",
      "Epoch [2/2], Step [1032/2400], Loss: 2.0001, Accuracy: 44.00%\n",
      "Epoch [2/2], Step [1056/2400], Loss: 1.9326, Accuracy: 44.00%\n",
      "Epoch [2/2], Step [1080/2400], Loss: 2.0339, Accuracy: 36.00%\n",
      "Epoch [2/2], Step [1104/2400], Loss: 1.6389, Accuracy: 60.00%\n",
      "Epoch [2/2], Step [1128/2400], Loss: 1.7222, Accuracy: 56.00%\n",
      "Epoch [2/2], Step [1152/2400], Loss: 1.8004, Accuracy: 48.00%\n",
      "Epoch [2/2], Step [1176/2400], Loss: 1.9635, Accuracy: 44.00%\n",
      "Epoch [2/2], Step [1200/2400], Loss: 1.7798, Accuracy: 44.00%\n",
      "Epoch [2/2], Step [1224/2400], Loss: 1.6454, Accuracy: 56.00%\n",
      "Epoch [2/2], Step [1248/2400], Loss: 2.1664, Accuracy: 28.00%\n",
      "Epoch [2/2], Step [1272/2400], Loss: 1.8441, Accuracy: 52.00%\n",
      "Epoch [2/2], Step [1296/2400], Loss: 1.8161, Accuracy: 60.00%\n"
     ]
    }
   ],
   "source": [
    "# Train the model\n",
    "total_step2 = len(trainM_loader)\n",
    "loss_list2 = []\n",
    "acc_list2 = []\n",
    "Yacc2 = []\n",
    "Yloss2 = []\n",
    "for epoch in range(num_epochs):\n",
    "    for i, (imgs, lbls) in enumerate(trainM_loader):\n",
    "        # Run the forward pass\n",
    "        outputs = model2(imgs)\n",
    "        #print(outputs.shape)\n",
    "        loss = criterion2(outputs, lbls)\n",
    "        loss_list2.append(loss.item())\n",
    "\n",
    "        # Backprop and perform Adam optimisation\n",
    "        optimizer2.zero_grad()\n",
    "        loss.backward()\n",
    "        optimizer2.step()\n",
    "\n",
    "        # Track the accuracy\n",
    "        total = lbls.size(0)\n",
    "        _, predicted = torch.max(outputs.data, 1)\n",
    "        correct = (predicted == lbls).sum().item()\n",
    "        acc_list2.append(correct / total)\n",
    "\n",
    "        if (i + 1) % int(printNow) == 0:\n",
    "            Yacc2.append((correct / total) * 100)\n",
    "            Yloss2.append(loss.item())\n",
    "            print('Epoch [{}/{}], Step [{}/{}], Loss: {:.4f}, Accuracy: {:.2f}%'\n",
    "                  .format(epoch + 1, num_epochs, i + 1, total_step, loss.item(),\n",
    "                          (correct / total) * 100))"
   ]
  },
  {
   "cell_type": "code",
   "execution_count": 1001,
   "metadata": {},
   "outputs": [
    {
     "name": "stdout",
     "output_type": "stream",
     "text": [
      "Test Accuracy of the model: 83.34 %\n"
     ]
    }
   ],
   "source": [
    "# Test the model\n",
    "model2.eval()\n",
    "with torch.no_grad():\n",
    "    correct = 0\n",
    "    total = 0\n",
    "    for images, labels in testM_loader:\n",
    "        outputs = model2(images)\n",
    "        _, predicted = torch.max(outputs.data, 1)\n",
    "        total += labels.size(0)\n",
    "        correct += (predicted == labels).sum().item()\n",
    "\n",
    "    print('Test Accuracy of the model: {} %'.format((correct / total) * 100))\n"
   ]
  },
  {
   "cell_type": "code",
   "execution_count": null,
   "metadata": {},
   "outputs": [],
   "source": []
  }
 ],
 "metadata": {
  "kernelspec": {
   "display_name": "Python 3",
   "language": "python",
   "name": "python3"
  },
  "language_info": {
   "codemirror_mode": {
    "name": "ipython",
    "version": 3
   },
   "file_extension": ".py",
   "mimetype": "text/x-python",
   "name": "python",
   "nbconvert_exporter": "python",
   "pygments_lexer": "ipython3",
   "version": "3.7.3"
  }
 },
 "nbformat": 4,
 "nbformat_minor": 2
}
